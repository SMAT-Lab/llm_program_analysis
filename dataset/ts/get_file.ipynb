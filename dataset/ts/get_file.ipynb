{
 "cells": [
  {
   "cell_type": "code",
   "execution_count": 1,
   "metadata": {},
   "outputs": [
    {
     "name": "stdout",
     "output_type": "stream",
     "text": [
      "文件已成功复制到目标目录。\n"
     ]
    }
   ],
   "source": [
    "import os\n",
    "import random\n",
    "import shutil\n",
    "\n",
    "# 定义源目录和目标目录\n",
    "ts_dir = \"/home/arktsLLM/dataset/train_data/ts-Files-Clean\"\n",
    "target_dir = \"./\"\n",
    "\n",
    "# 获取所有.ts文件\n",
    "ts_files = [f for f in os.listdir(ts_dir) if f.endswith('.ts')]\n",
    "\n",
    "# 过滤掉少于20行的文件\n",
    "valid_files = []\n",
    "for file in ts_files:\n",
    "    with open(os.path.join(ts_dir, file), 'r', encoding='utf-8') as f:\n",
    "        if sum(1 for _ in f) >= 20:\n",
    "            valid_files.append(file)\n",
    "\n",
    "# 随机选取81个文件\n",
    "selected_files = random.sample(valid_files, 81)\n",
    "\n",
    "# 保存文件为129.ts到199.ts\n",
    "for i, file in enumerate(selected_files, start=129):\n",
    "    target_file = os.path.join(target_dir, f\"{i}.ts\")\n",
    "    shutil.copy2(os.path.join(ts_dir, file), target_file)\n",
    "\n",
    "print(\"文件已成功复制到目标目录。\")"
   ]
  }
 ],
 "metadata": {
  "kernelspec": {
   "display_name": "cangjieAnalyzer",
   "language": "python",
   "name": "python3"
  },
  "language_info": {
   "codemirror_mode": {
    "name": "ipython",
    "version": 3
   },
   "file_extension": ".py",
   "mimetype": "text/x-python",
   "name": "python",
   "nbconvert_exporter": "python",
   "pygments_lexer": "ipython3",
   "version": "3.11.10"
  }
 },
 "nbformat": 4,
 "nbformat_minor": 2
}
