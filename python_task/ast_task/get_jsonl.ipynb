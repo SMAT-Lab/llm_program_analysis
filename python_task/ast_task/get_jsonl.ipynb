{
 "cells": [
  {
   "cell_type": "code",
   "execution_count": 3,
   "metadata": {},
   "outputs": [
    {
     "name": "stdout",
     "output_type": "stream",
     "text": [
      "已生成 llm_ast.jsonl\n"
     ]
    }
   ],
   "source": [
    "import json\n",
    "import os\n",
    "from pathlib import Path\n",
    "\n",
    "# 设置输入和输出路径\n",
    "input_dir = Path(\"llm_ast/cfg_block\") \n",
    "output_file = \"llm_ast.jsonl\"\n",
    "\n",
    "# 读取所有json文件并合并为jsonl\n",
    "# 提取文件名中的数字部分进行排序\n",
    "files = sorted(input_dir.glob(\"*.json\"), key=lambda x: int(''.join(filter(str.isdigit, x.stem))))\n",
    "\n",
    "# 合并为jsonl\n",
    "with open(output_file, \"w\", encoding=\"utf-8\") as f:\n",
    "    for file in files:\n",
    "        # 读取json文件\n",
    "        with open(file, encoding=\"utf-8\") as json_file:\n",
    "            data = json.load(json_file)\n",
    "            # 创建新字典,文件名放在前面\n",
    "            output_data = {\"file_name\": file.name}\n",
    "            output_data.update(data)\n",
    "            # 写入jsonl\n",
    "            f.write(json.dumps(output_data) + \"\\n\")\n",
    "\n",
    "print(f\"已生成 {output_file}\")\n"
   ]
  },
  {
   "cell_type": "code",
   "execution_count": 4,
   "metadata": {},
   "outputs": [
    {
     "name": "stdout",
     "output_type": "stream",
     "text": [
      "已生成 static_ast.jsonl\n"
     ]
    }
   ],
   "source": [
    "import json\n",
    "import os\n",
    "from pathlib import Path\n",
    "\n",
    "# 设置输入和输出路径\n",
    "input_dir = Path(\"../../dataset/python_ast\") \n",
    "output_file = \"static_ast.jsonl\"\n",
    "\n",
    "# 读取所有json文件并合并为jsonl\n",
    "files = sorted(input_dir.glob(\"*.json\"), key=lambda x: int(''.join(filter(str.isdigit, x.stem))))\n",
    "\n",
    "# 合并为jsonl\n",
    "with open(output_file, \"w\", encoding=\"utf-8\") as f:\n",
    "    for file in files:\n",
    "        # 读取json文件\n",
    "        with open(file, encoding=\"utf-8\") as json_file:\n",
    "            data = json.load(json_file)\n",
    "            # 创建新字典,文件名放在前面\n",
    "            output_data = {\"file_name\": file.name}\n",
    "            output_data.update(data)\n",
    "            # 写入jsonl\n",
    "            f.write(json.dumps(output_data) + \"\\n\")\n",
    "\n",
    "print(f\"已生成 {output_file}\")\n"
   ]
  }
 ],
 "metadata": {
  "kernelspec": {
   "display_name": "llm_analysis",
   "language": "python",
   "name": "python3"
  },
  "language_info": {
   "codemirror_mode": {
    "name": "ipython",
    "version": 3
   },
   "file_extension": ".py",
   "mimetype": "text/x-python",
   "name": "python",
   "nbconvert_exporter": "python",
   "pygments_lexer": "ipython3",
   "version": "3.10.15"
  }
 },
 "nbformat": 4,
 "nbformat_minor": 2
}
