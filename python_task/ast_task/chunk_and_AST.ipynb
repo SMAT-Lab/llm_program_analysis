{
 "cells": [
  {
   "cell_type": "code",
   "execution_count": 1,
   "metadata": {},
   "outputs": [
    {
     "name": "stderr",
     "output_type": "stream",
     "text": [
      "处理文件:   1%|          | 2/210 [00:00<00:17, 12.10it/s]"
     ]
    },
    {
     "name": "stdout",
     "output_type": "stream",
     "text": [
      "[Processing] ../../dataset/python/11.py\n",
      "[Processing] ../../dataset/python/180.py\n",
      "[Processing] ../../dataset/python/195.py\n",
      "[Processing] ../../dataset/python/60.py\n",
      "[LLM AST] (cached) => llm_ast/cfg_block/11.py.json\n",
      "[Processing] ../../dataset/python/202.py\n",
      "[Processing] ../../dataset/python/208.py\n",
      "[TS AST] => static_ast/11.py.json\n",
      "[Processing done] ../../dataset/python/11.py\n",
      "[Processing] ../../dataset/python/176.py\n",
      "[Processing] ../../dataset/python/98.py\n",
      "[Processing] ../../dataset/python/151.py\n",
      "[Processing] ../../dataset/python/120.py\n",
      "[Processing] ../../dataset/python/13.py\n",
      "[Processing] ../../dataset/python/71.py\n",
      "[Processing] ../../dataset/python/12.py\n",
      "[Processing] ../../dataset/python/167.py\n",
      "[LLM AST] (cached) => llm_ast/cfg_block/167.py.json\n",
      "[Processing] ../../dataset/python/186.py\n",
      "[TS AST] => static_ast/167.py.json\n",
      "[Processing done] ../../dataset/python/167.py\n",
      "[Processing] ../../dataset/python/14.py\n",
      "[LLM AST] (cached) => llm_ast/cfg_block/14.py.json\n",
      "[Processing] ../../dataset/python/62.py\n",
      "[Processing] ../../dataset/python/59.py\n",
      "[TS AST] => static_ast/14.py.json\n",
      "[Processing done] ../../dataset/python/14.py\n",
      "[Processing] ../../dataset/python/163.py\n",
      "[Processing] ../../dataset/python/139.py\n",
      "[Processing] ../../dataset/python/6.py\n",
      "[Processing] ../../dataset/python/184.py\n",
      "[Processing] ../../dataset/python/129.py\n",
      "[Processing] ../../dataset/python/138.py\n",
      "[Processing] ../../dataset/python/9.py\n"
     ]
    },
    {
     "name": "stderr",
     "output_type": "stream",
     "text": [
      "处理文件:   2%|▏         | 5/210 [00:00<00:14, 14.29it/s]"
     ]
    },
    {
     "name": "stdout",
     "output_type": "stream",
     "text": [
      "[Processing] ../../dataset/python/75.py\n",
      "[LLM AST] (cached) => llm_ast/cfg_block/9.py.json\n",
      "[Processing] ../../dataset/python/107.py\n",
      "[Processing] ../../dataset/python/201.py\n",
      "[Processing] ../../dataset/python/148.py\n",
      "[Processing] ../../dataset/python/54.py\n",
      "[LLM AST] (cached) => llm_ast/cfg_block/75.py.json\n",
      "[Processing] ../../dataset/python/160.py\n",
      "[Processing] ../../dataset/python/123.py\n",
      "[Processing] ../../dataset/python/174.py\n",
      "[Processing] ../../dataset/python/159.py\n",
      "[TS AST] => static_ast/9.py.json\n",
      "[Processing done] ../../dataset/python/9.py\n",
      "[TS AST] => static_ast/75.py.json\n",
      "[Processing done] ../../dataset/python/75.py\n",
      "[LLM AST] (cached) => llm_ast/cfg_block/159.py.json\n",
      "[Processing] ../../dataset/python/29.py\n",
      "[Processing] ../../dataset/python/55.py\n",
      "[Processing] ../../dataset/python/100.py\n",
      "[Processing] ../../dataset/python/116.py\n",
      "[LLM AST] (cached) => llm_ast/cfg_block/29.py.json\n",
      "[TS AST] => static_ast/29.py.json\n",
      "[Processing done] ../../dataset/python/29.py\n",
      "[Processing] ../../dataset/python/25.py\n",
      "[Processing] ../../dataset/python/89.py\n",
      "[Processing] ../../dataset/python/86.py\n",
      "[LLM AST] (cached) => llm_ast/cfg_block/89.py.json\n",
      "[Processing] ../../dataset/python/28.py\n",
      "[Processing] ../../dataset/python/45.py\n",
      "[Processing] ../../dataset/python/99.py\n",
      "[Processing] ../../dataset/python/90.py\n",
      "[TS AST] => static_ast/159.py.json\n",
      "[Processing done] ../../dataset/python/159.py\n",
      "[LLM AST] (cached) => llm_ast/cfg_block/28.py.json\n",
      "[Processing] ../../dataset/python/132.py\n"
     ]
    },
    {
     "name": "stderr",
     "output_type": "stream",
     "text": [
      "处理文件:   7%|▋         | 14/210 [00:00<00:10, 19.28it/s]"
     ]
    },
    {
     "name": "stdout",
     "output_type": "stream",
     "text": [
      "[TS AST] => static_ast/89.py.json\n",
      "[Processing done] ../../dataset/python/89.py\n",
      "[LLM AST] (cached) => llm_ast/cfg_block/132.py.json\n",
      "[Processing] ../../dataset/python/19.py\n",
      "[TS AST] => static_ast/28.py.json\n",
      "[Processing done] ../../dataset/python/28.py\n",
      "[TS AST] => static_ast/132.py.json\n",
      "[Processing done] ../../dataset/python/132.py\n",
      "[Processing] ../../dataset/python/77.py\n",
      "[Processing] ../../dataset/python/198.py\n",
      "[Processing] ../../dataset/python/93.py\n",
      "[Processing] ../../dataset/python/144.py\n",
      "[LLM AST] (cached) => llm_ast/cfg_block/144.py.json\n",
      "[LLM AST] (cached) => llm_ast/cfg_block/198.py.json\n",
      "[TS AST] => static_ast/144.py.json\n",
      "[Processing done] ../../dataset/python/144.py\n",
      "[Processing] ../../dataset/python/110.py\n",
      "[TS AST] => static_ast/198.py.json\n",
      "[Processing done] ../../dataset/python/198.py\n",
      "[Processing] ../../dataset/python/183.py\n",
      "[Processing] ../../dataset/python/8.py\n",
      "[Processing] ../../dataset/python/131.py\n",
      "[LLM AST] (cached) => llm_ast/cfg_block/110.py.json\n",
      "[Processing] ../../dataset/python/82.py\n",
      "[Processing] ../../dataset/python/103.py\n",
      "[Processing] ../../dataset/python/34.py\n",
      "[Processing] ../../dataset/python/112.py\n",
      "[TS AST] => static_ast/110.py.json\n",
      "[Processing done] ../../dataset/python/110.py\n",
      "[Processing] ../../dataset/python/48.py\n",
      "[Processing] ../../dataset/python/102.py\n",
      "[Processing] ../../dataset/python/210.py\n",
      "[LLM AST] (cached) => llm_ast/cfg_block/48.py.json\n",
      "[Processing] ../../dataset/python/121.py\n",
      "[Processing] ../../dataset/python/30.py\n",
      "[Processing] ../../dataset/python/91.py\n",
      "[LLM AST] (cached) => llm_ast/cfg_block/82.py.json\n",
      "[LLM AST] (cached) => llm_ast/cfg_block/91.py.json\n",
      "[LLM AST] (cached) => llm_ast/cfg_block/102.py.json\n",
      "[Processing] ../../dataset/python/141.py\n",
      "[LLM AST] (cached) => llm_ast/cfg_block/210.py.json\n",
      "[Processing] ../../dataset/python/70.py\n",
      "[LLM AST] (cached) => llm_ast/cfg_block/112.py.json\n",
      "[TS AST] => static_ast/102.py.json\n",
      "[Processing done] ../../dataset/python/102.py\n",
      "[LLM AST] (cached) => llm_ast/cfg_block/121.py.json\n",
      "[TS AST] => static_ast/82.py.json\n",
      "[Processing done] ../../dataset/python/82.py\n"
     ]
    },
    {
     "name": "stderr",
     "output_type": "stream",
     "text": [
      "处理文件:  10%|█         | 22/210 [00:00<00:11, 15.83it/s]"
     ]
    },
    {
     "name": "stdout",
     "output_type": "stream",
     "text": [
      "[Processing] ../../dataset/python/72.py\n",
      "[TS AST] => static_ast/91.py.json\n",
      "[Processing done] ../../dataset/python/91.py\n",
      "[TS AST] => static_ast/210.py.json\n",
      "[Processing done] ../../dataset/python/210.py\n",
      "[TS AST] => static_ast/121.py.json\n",
      "[Processing done] ../../dataset/python/121.py\n",
      "[TS AST] => static_ast/48.py.json\n",
      "[Processing done] ../../dataset/python/48.py\n",
      "[TS AST] => static_ast/112.py.json\n",
      "[Processing done] ../../dataset/python/112.py\n",
      "[Processing] ../../dataset/python/74.py\n",
      "[Processing] ../../dataset/python/37.py\n",
      "[Processing] ../../dataset/python/44.py\n",
      "[Processing] ../../dataset/python/78.py\n",
      "[Processing] ../../dataset/python/136.py\n",
      "[Processing] ../../dataset/python/171.py\n",
      "[Processing] ../../dataset/python/125.py\n",
      "[Processing] ../../dataset/python/164.py\n",
      "[Processing] ../../dataset/python/47.py\n",
      "[Processing] ../../dataset/python/84.py\n",
      "[LLM AST] (cached) => llm_ast/cfg_block/164.py.json\n",
      "[Processing] ../../dataset/python/58.py\n",
      "[TS AST] => static_ast/164.py.json\n",
      "[Processing done] ../../dataset/python/164.py\n",
      "[Processing] ../../dataset/python/104.py\n",
      "[LLM AST] (cached) => llm_ast/cfg_block/78.py.json\n",
      "[Processing] ../../dataset/python/196.py\n",
      "[Processing] ../../dataset/python/41.py\n",
      "[Processing] ../../dataset/python/83.py\n",
      "[LLM AST] (cached) => llm_ast/cfg_block/83.py.json\n",
      "[Processing] ../../dataset/python/204.py\n",
      "[Processing] ../../dataset/python/140.py\n",
      "[Processing] ../../dataset/python/154.py\n",
      "[TS AST] => static_ast/78.py.json\n",
      "[Processing done] ../../dataset/python/78.py\n",
      "[Processing] ../../dataset/python/40.py\n",
      "[Processing] ../../dataset/python/172.py\n",
      "[Processing] ../../dataset/python/113.py\n",
      "[TS AST] => static_ast/83.py.json\n",
      "[Processing done] ../../dataset/python/83.py\n",
      "[Processing] ../../dataset/python/4.py\n",
      "[LLM AST] (cached) => llm_ast/cfg_block/40.py.json\n",
      "[Processing] ../../dataset/python/43.py\n",
      "[Processing] ../../dataset/python/94.py\n"
     ]
    },
    {
     "name": "stderr",
     "output_type": "stream",
     "text": [
      "处理文件:  13%|█▎        | 27/210 [00:01<00:10, 17.61it/s]"
     ]
    },
    {
     "name": "stdout",
     "output_type": "stream",
     "text": [
      "[Processing] ../../dataset/python/57.py\n",
      "[LLM AST] (cached) => llm_ast/cfg_block/43.py.json\n",
      "[Processing] ../../dataset/python/194.py\n",
      "[Processing] ../../dataset/python/155.py\n",
      "[Processing] ../../dataset/python/18.py\n",
      "[Processing] ../../dataset/python/126.py\n",
      "[LLM AST] (cached) => llm_ast/cfg_block/194.py.json\n",
      "[Processing] ../../dataset/python/158.py\n",
      "[TS AST] => static_ast/43.py.json\n",
      "[Processing done] ../../dataset/python/43.py\n",
      "[LLM AST] (cached) => llm_ast/cfg_block/126.py.json\n",
      "[TS AST] => static_ast/40.py.json\n",
      "[Processing done] ../../dataset/python/40.py\n",
      "[LLM AST] (cached) => llm_ast/cfg_block/18.py.json\n",
      "[Processing] ../../dataset/python/117.py\n",
      "[TS AST] => static_ast/126.py.json\n",
      "[Processing done] ../../dataset/python/126.py\n",
      "[Processing] ../../dataset/python/133.py\n",
      "[Processing] ../../dataset/python/122.py\n",
      "[LLM AST] (cached) => llm_ast/cfg_block/117.py.json\n",
      "[Processing] ../../dataset/python/156.py\n",
      "[TS AST] => static_ast/194.py.json\n",
      "[Processing done] ../../dataset/python/194.py\n",
      "[TS AST] => static_ast/117.py.json\n",
      "[Processing done] ../../dataset/python/117.py\n",
      "[Processing] ../../dataset/python/187.py\n",
      "[LLM AST] (cached) => llm_ast/cfg_block/156.py.json\n",
      "[Processing] ../../dataset/python/87.py\n",
      "[LLM AST] (cached) => llm_ast/cfg_block/187.py.json\n"
     ]
    },
    {
     "name": "stderr",
     "output_type": "stream",
     "text": [
      "处理文件:  15%|█▌        | 32/210 [00:01<00:10, 17.33it/s]"
     ]
    },
    {
     "name": "stdout",
     "output_type": "stream",
     "text": [
      "[TS AST] => static_ast/18.py.json\n",
      "[Processing done] ../../dataset/python/18.py\n",
      "[Processing] ../../dataset/python/51.py\n",
      "[Processing] ../../dataset/python/96.py\n",
      "[TS AST] => static_ast/187.py.json\n",
      "[Processing done] ../../dataset/python/187.py\n",
      "[Processing] ../../dataset/python/52.py\n",
      "[Processing] ../../dataset/python/68.py\n",
      "[LLM AST] (cached) => llm_ast/cfg_block/51.py.json\n",
      "[Processing] ../../dataset/python/142.py\n",
      "[LLM AST] (cached) => llm_ast/cfg_block/52.py.json\n",
      "[Processing] ../../dataset/python/200.py\n",
      "[LLM AST] (cached) => llm_ast/cfg_block/96.py.json\n",
      "[TS AST] => static_ast/156.py.json\n",
      "[Processing done] ../../dataset/python/156.py\n",
      "[Processing] ../../dataset/python/203.py\n",
      "[Processing] ../../dataset/python/119.py\n",
      "[Processing] ../../dataset/python/50.py\n",
      "[Processing] ../../dataset/python/145.py\n",
      "[Processing] ../../dataset/python/169.py\n",
      "[Processing] ../../dataset/python/170.py\n",
      "[Processing] ../../dataset/python/209.py\n",
      "[Processing] ../../dataset/python/128.py\n",
      "[Processing] ../../dataset/python/109.py\n",
      "[TS AST] => static_ast/51.py.json\n",
      "[Processing done] ../../dataset/python/51.py\n",
      "[LLM AST] (cached) => llm_ast/cfg_block/209.py.json\n",
      "[Processing] ../../dataset/python/33.py\n",
      "[Processing] ../../dataset/python/189.py\n"
     ]
    },
    {
     "name": "stderr",
     "output_type": "stream",
     "text": [
      "处理文件:  17%|█▋        | 35/210 [00:01<00:09, 18.99it/s]"
     ]
    },
    {
     "name": "stdout",
     "output_type": "stream",
     "text": [
      "[TS AST] => static_ast/52.py.json\n",
      "[Processing done] ../../dataset/python/52.py\n",
      "[TS AST] => static_ast/96.py.json\n",
      "[Processing done] ../../dataset/python/96.py\n",
      "[Processing] ../../dataset/python/193.py\n",
      "[LLM AST] (cached) => llm_ast/cfg_block/189.py.json\n",
      "[Processing] ../../dataset/python/79.py\n",
      "[Processing] ../../dataset/python/63.py\n",
      "[Processing] ../../dataset/python/81.py\n",
      "[Processing] ../../dataset/python/42.py\n",
      "[Processing] ../../dataset/python/53.py\n",
      "[LLM AST] (cached) => llm_ast/cfg_block/79.py.json\n",
      "[TS AST] => static_ast/209.py.json\n",
      "[Processing done] ../../dataset/python/209.py\n",
      "[Processing] ../../dataset/python/165.py\n",
      "[Processing] ../../dataset/python/181.py\n",
      "[Processing] ../../dataset/python/36.py\n",
      "[TS AST] => static_ast/189.py.json\n",
      "[Processing done] ../../dataset/python/189.py\n",
      "[Processing] ../../dataset/python/2.py\n",
      "[Processing] ../../dataset/python/67.py\n",
      "[Processing] ../../dataset/python/115.py\n",
      "[TS AST] => static_ast/79.py.json\n",
      "[Processing done] ../../dataset/python/79.py\n",
      "[Processing] ../../dataset/python/199.py\n",
      "[Processing] ../../dataset/python/1.py\n",
      "[Processing] ../../dataset/python/185.py\n",
      "[Processing] ../../dataset/python/26.py\n",
      "[Processing] ../../dataset/python/147.py\n",
      "[Processing] ../../dataset/python/27.py\n",
      "[Processing] ../../dataset/python/118.py\n",
      "[Processing] ../../dataset/python/111.py\n",
      "[Processing] ../../dataset/python/149.py\n",
      "[Processing] ../../dataset/python/24.py\n",
      "[Processing] ../../dataset/python/177.py\n",
      "[Processing] ../../dataset/python/73.py\n",
      "[Processing] ../../dataset/python/175.py\n",
      "[Processing] ../../dataset/python/92.py\n",
      "[Processing] ../../dataset/python/32.py\n",
      "[Processing] ../../dataset/python/190.py\n"
     ]
    },
    {
     "name": "stderr",
     "output_type": "stream",
     "text": [
      "处理文件:  18%|█▊        | 38/210 [00:20<05:54,  2.06s/it]"
     ]
    },
    {
     "name": "stdout",
     "output_type": "stream",
     "text": [
      "[LLM AST] => llm_ast/cfg_block/190.py.json\n",
      "[TS AST] => static_ast/190.py.json\n",
      "[Processing done] ../../dataset/python/190.py\n",
      "[Processing] ../../dataset/python/46.py\n"
     ]
    },
    {
     "name": "stderr",
     "output_type": "stream",
     "text": [
      "处理文件:  19%|█▊        | 39/210 [00:26<07:06,  2.49s/it]"
     ]
    },
    {
     "name": "stdout",
     "output_type": "stream",
     "text": [
      "[LLM AST] => llm_ast/cfg_block/111.py.json\n",
      "[TS AST] => static_ast/111.py.json\n",
      "[Processing done] ../../dataset/python/111.py\n",
      "[Processing] ../../dataset/python/66.py\n",
      "[LLM AST] => llm_ast/cfg_block/115.py.json\n",
      "[TS AST] => static_ast/115.py.json\n",
      "[Processing done] ../../dataset/python/115.py\n",
      "[Processing] ../../dataset/python/35.py\n"
     ]
    },
    {
     "name": "stderr",
     "output_type": "stream",
     "text": [
      "处理文件:  20%|█▉        | 41/210 [00:37<09:30,  3.38s/it]"
     ]
    },
    {
     "name": "stdout",
     "output_type": "stream",
     "text": [
      "[LLM AST] => llm_ast/cfg_block/36.py.json\n",
      "[TS AST] => static_ast/36.py.json\n",
      "[Processing done] ../../dataset/python/36.py\n",
      "[Processing] ../../dataset/python/38.py\n"
     ]
    },
    {
     "name": "stderr",
     "output_type": "stream",
     "text": [
      "处理文件:  20%|██        | 42/210 [00:45<11:29,  4.10s/it]"
     ]
    },
    {
     "name": "stdout",
     "output_type": "stream",
     "text": [
      "[LLM AST] => llm_ast/cfg_block/92.py.json\n",
      "[TS AST] => static_ast/92.py.json\n",
      "[Processing done] ../../dataset/python/92.py\n",
      "[Processing] ../../dataset/python/69.py\n"
     ]
    },
    {
     "name": "stderr",
     "output_type": "stream",
     "text": [
      "处理文件:  21%|██        | 44/210 [00:48<08:33,  3.10s/it]"
     ]
    },
    {
     "name": "stdout",
     "output_type": "stream",
     "text": [
      "[LLM AST] => llm_ast/cfg_block/149.py.json\n",
      "[TS AST] => static_ast/149.py.json\n",
      "[Processing done] ../../dataset/python/149.py\n",
      "[Processing] ../../dataset/python/5.py\n",
      "[LLM AST] => llm_ast/cfg_block/118.py.json\n",
      "[TS AST] => static_ast/118.py.json\n",
      "[Processing done] ../../dataset/python/118.py\n",
      "[Processing] ../../dataset/python/108.py\n"
     ]
    },
    {
     "name": "stderr",
     "output_type": "stream",
     "text": [
      "处理文件:  21%|██▏       | 45/210 [00:51<08:15,  3.00s/it]"
     ]
    },
    {
     "name": "stdout",
     "output_type": "stream",
     "text": [
      "[LLM AST] => llm_ast/cfg_block/199.py.json\n",
      "[TS AST] => static_ast/199.py.json\n",
      "[Processing done] ../../dataset/python/199.py\n",
      "[Processing] ../../dataset/python/20.py\n"
     ]
    },
    {
     "name": "stderr",
     "output_type": "stream",
     "text": [
      "处理文件:  22%|██▏       | 46/210 [00:52<06:53,  2.52s/it]"
     ]
    },
    {
     "name": "stdout",
     "output_type": "stream",
     "text": [
      "[LLM AST] => llm_ast/cfg_block/42.py.json\n",
      "[TS AST] => static_ast/42.py.json\n",
      "[Processing done] ../../dataset/python/42.py\n",
      "[Processing] ../../dataset/python/152.py\n"
     ]
    },
    {
     "name": "stderr",
     "output_type": "stream",
     "text": [
      "处理文件:  22%|██▏       | 47/210 [01:08<16:39,  6.13s/it]"
     ]
    },
    {
     "name": "stdout",
     "output_type": "stream",
     "text": [
      "[LLM AST] => llm_ast/cfg_block/2.py.json\n",
      "[TS AST] => static_ast/2.py.json\n",
      "[Processing done] ../../dataset/python/2.py\n",
      "[Processing] ../../dataset/python/80.py\n"
     ]
    },
    {
     "name": "stderr",
     "output_type": "stream",
     "text": [
      "处理文件:  23%|██▎       | 48/210 [01:12<14:27,  5.35s/it]"
     ]
    },
    {
     "name": "stdout",
     "output_type": "stream",
     "text": [
      "[LLM AST] => llm_ast/cfg_block/33.py.json\n",
      "[TS AST] => static_ast/33.py.json\n",
      "[Processing done] ../../dataset/python/33.py\n",
      "[Processing] ../../dataset/python/56.py\n"
     ]
    },
    {
     "name": "stderr",
     "output_type": "stream",
     "text": [
      "处理文件:  23%|██▎       | 49/210 [01:13<11:21,  4.24s/it]"
     ]
    },
    {
     "name": "stdout",
     "output_type": "stream",
     "text": [
      "[LLM AST] => llm_ast/cfg_block/196.py.json\n",
      "[TS AST] => static_ast/196.py.json\n",
      "[Processing done] ../../dataset/python/196.py\n",
      "[Processing] ../../dataset/python/114.py\n",
      "[LLM AST] => llm_ast/cfg_block/50.py.json\n",
      "[TS AST] => static_ast/50.py.json\n",
      "[Processing done] ../../dataset/python/50.py\n",
      "[Processing] ../../dataset/python/188.py\n"
     ]
    },
    {
     "name": "stderr",
     "output_type": "stream",
     "text": [
      "处理文件:  24%|██▍       | 51/210 [01:15<07:38,  2.88s/it]"
     ]
    },
    {
     "name": "stdout",
     "output_type": "stream",
     "text": [
      "[LLM AST] => llm_ast/cfg_block/119.py.json\n",
      "[TS AST] => static_ast/119.py.json\n",
      "[Processing done] ../../dataset/python/119.py\n",
      "[Processing] ../../dataset/python/23.py\n"
     ]
    },
    {
     "name": "stderr",
     "output_type": "stream",
     "text": [
      "处理文件:  25%|██▍       | 52/210 [01:17<06:30,  2.47s/it]"
     ]
    },
    {
     "name": "stdout",
     "output_type": "stream",
     "text": [
      "[LLM AST] => llm_ast/cfg_block/203.py.json\n",
      "[TS AST] => static_ast/203.py.json\n",
      "[Processing done] ../../dataset/python/203.py\n",
      "[Processing] ../../dataset/python/64.py\n"
     ]
    },
    {
     "name": "stderr",
     "output_type": "stream",
     "text": [
      "处理文件:  25%|██▌       | 53/210 [01:18<05:46,  2.20s/it]"
     ]
    },
    {
     "name": "stdout",
     "output_type": "stream",
     "text": [
      "[LLM AST] => llm_ast/cfg_block/20.py.json\n",
      "[TS AST] => static_ast/20.py.json\n",
      "[Processing done] ../../dataset/python/20.py\n",
      "[Processing] ../../dataset/python/95.py\n"
     ]
    },
    {
     "name": "stderr",
     "output_type": "stream",
     "text": [
      "处理文件:  26%|██▌       | 54/210 [01:20<05:20,  2.05s/it]"
     ]
    },
    {
     "name": "stdout",
     "output_type": "stream",
     "text": [
      "[LLM AST] => llm_ast/cfg_block/170.py.json\n",
      "[TS AST] => static_ast/170.py.json\n",
      "[Processing done] ../../dataset/python/170.py\n",
      "[Processing] ../../dataset/python/166.py\n"
     ]
    },
    {
     "name": "stderr",
     "output_type": "stream",
     "text": [
      "处理文件:  26%|██▌       | 55/210 [01:20<04:03,  1.57s/it]"
     ]
    },
    {
     "name": "stdout",
     "output_type": "stream",
     "text": [
      "[LLM AST] => llm_ast/cfg_block/94.py.json\n",
      "[TS AST] => static_ast/94.py.json\n",
      "[Processing done] ../../dataset/python/94.py\n",
      "[Processing] ../../dataset/python/106.py\n"
     ]
    },
    {
     "name": "stderr",
     "output_type": "stream",
     "text": [
      "处理文件:  27%|██▋       | 56/210 [01:24<05:55,  2.31s/it]"
     ]
    },
    {
     "name": "stdout",
     "output_type": "stream",
     "text": [
      "[LLM AST] => llm_ast/cfg_block/99.py.json\n",
      "[TS AST] => static_ast/99.py.json\n",
      "[Processing done] ../../dataset/python/99.py\n",
      "[Processing] ../../dataset/python/161.py\n"
     ]
    },
    {
     "name": "stderr",
     "output_type": "stream",
     "text": [
      "处理文件:  27%|██▋       | 57/210 [01:26<05:50,  2.29s/it]"
     ]
    },
    {
     "name": "stdout",
     "output_type": "stream",
     "text": [
      "[LLM AST] => llm_ast/cfg_block/208.py.json\n",
      "[TS AST] => static_ast/208.py.json\n",
      "[Processing done] ../../dataset/python/208.py\n",
      "[Processing] ../../dataset/python/192.py\n"
     ]
    },
    {
     "name": "stderr",
     "output_type": "stream",
     "text": [
      "处理文件:  28%|██▊       | 58/210 [01:28<05:33,  2.20s/it]"
     ]
    },
    {
     "name": "stdout",
     "output_type": "stream",
     "text": [
      "[LLM AST] => llm_ast/cfg_block/81.py.json\n",
      "[TS AST] => static_ast/81.py.json\n",
      "[Processing done] ../../dataset/python/81.py\n",
      "[Processing] ../../dataset/python/101.py\n"
     ]
    },
    {
     "name": "stderr",
     "output_type": "stream",
     "text": [
      "处理文件:  28%|██▊       | 59/210 [01:35<08:36,  3.42s/it]"
     ]
    },
    {
     "name": "stdout",
     "output_type": "stream",
     "text": [
      "[LLM AST] => llm_ast/cfg_block/114.py.json\n",
      "[TS AST] => static_ast/114.py.json\n",
      "[Processing done] ../../dataset/python/114.py\n",
      "[Processing] ../../dataset/python/178.py\n"
     ]
    },
    {
     "name": "stderr",
     "output_type": "stream",
     "text": [
      "处理文件:  29%|██▊       | 60/210 [01:36<06:48,  2.73s/it]"
     ]
    },
    {
     "name": "stdout",
     "output_type": "stream",
     "text": [
      "[LLM AST] => llm_ast/cfg_block/24.py.json\n",
      "[TS AST] => static_ast/24.py.json\n",
      "[Processing done] ../../dataset/python/24.py\n",
      "[Processing] ../../dataset/python/15.py\n"
     ]
    },
    {
     "name": "stderr",
     "output_type": "stream",
     "text": [
      "处理文件:  29%|██▉       | 61/210 [01:36<04:54,  1.98s/it]"
     ]
    },
    {
     "name": "stdout",
     "output_type": "stream",
     "text": [
      "[LLM AST] => llm_ast/cfg_block/80.py.json\n",
      "[TS AST] => static_ast/80.py.json\n",
      "[Processing done] ../../dataset/python/80.py\n",
      "[Processing] ../../dataset/python/205.py\n"
     ]
    },
    {
     "name": "stderr",
     "output_type": "stream",
     "text": [
      "处理文件:  30%|██▉       | 62/210 [01:37<04:31,  1.83s/it]"
     ]
    },
    {
     "name": "stdout",
     "output_type": "stream",
     "text": [
      "[LLM AST] => llm_ast/cfg_block/202.py.json\n",
      "[TS AST] => static_ast/202.py.json\n",
      "[Processing done] ../../dataset/python/202.py\n",
      "[Processing] ../../dataset/python/207.py\n"
     ]
    },
    {
     "name": "stderr",
     "output_type": "stream",
     "text": [
      "处理文件:  30%|███       | 63/210 [01:38<03:35,  1.47s/it]"
     ]
    },
    {
     "name": "stdout",
     "output_type": "stream",
     "text": [
      "[LLM AST] => llm_ast/cfg_block/165.py.json\n",
      "[TS AST] => static_ast/165.py.json\n",
      "[Processing done] ../../dataset/python/165.py\n",
      "[Processing] ../../dataset/python/150.py\n"
     ]
    },
    {
     "name": "stderr",
     "output_type": "stream",
     "text": [
      "处理文件:  30%|███       | 64/210 [01:44<06:47,  2.79s/it]"
     ]
    },
    {
     "name": "stdout",
     "output_type": "stream",
     "text": [
      "[LLM AST] => llm_ast/cfg_block/73.py.json\n",
      "[TS AST] => static_ast/73.py.json\n",
      "[Processing done] ../../dataset/python/73.py\n",
      "[Processing] ../../dataset/python/197.py\n"
     ]
    },
    {
     "name": "stderr",
     "output_type": "stream",
     "text": [
      "处理文件:  31%|███       | 65/210 [01:46<06:20,  2.63s/it]"
     ]
    },
    {
     "name": "stdout",
     "output_type": "stream",
     "text": [
      "[LLM AST] => llm_ast/cfg_block/41.py.json\n",
      "[TS AST] => static_ast/41.py.json\n",
      "[Processing done] ../../dataset/python/41.py\n",
      "[Processing] ../../dataset/python/182.py\n"
     ]
    },
    {
     "name": "stderr",
     "output_type": "stream",
     "text": [
      "处理文件:  31%|███▏      | 66/210 [01:47<04:57,  2.07s/it]"
     ]
    },
    {
     "name": "stdout",
     "output_type": "stream",
     "text": [
      "[LLM AST] => llm_ast/cfg_block/183.py.json\n",
      "[TS AST] => static_ast/183.py.json\n",
      "[Processing done] ../../dataset/python/183.py\n",
      "[Processing] ../../dataset/python/65.py\n"
     ]
    },
    {
     "name": "stderr",
     "output_type": "stream",
     "text": [
      "处理文件:  32%|███▏      | 67/210 [01:49<04:59,  2.10s/it]"
     ]
    },
    {
     "name": "stdout",
     "output_type": "stream",
     "text": [
      "[LLM AST] => llm_ast/cfg_block/177.py.json\n",
      "[TS AST] => static_ast/177.py.json\n",
      "[Processing done] ../../dataset/python/177.py\n",
      "[Processing] ../../dataset/python/88.py\n"
     ]
    },
    {
     "name": "stderr",
     "output_type": "stream",
     "text": [
      "处理文件:  32%|███▏      | 68/210 [01:50<04:23,  1.86s/it]"
     ]
    },
    {
     "name": "stdout",
     "output_type": "stream",
     "text": [
      "[LLM AST] => llm_ast/cfg_block/107.py.json\n",
      "[TS AST] => static_ast/107.py.json\n",
      "[Processing done] ../../dataset/python/107.py\n",
      "[Processing] ../../dataset/python/157.py\n"
     ]
    },
    {
     "name": "stderr",
     "output_type": "stream",
     "text": [
      "处理文件:  33%|███▎      | 69/210 [01:54<05:16,  2.24s/it]"
     ]
    },
    {
     "name": "stdout",
     "output_type": "stream",
     "text": [
      "[LLM AST] => llm_ast/cfg_block/109.py.json\n",
      "[TS AST] => static_ast/109.py.json\n",
      "[Processing done] ../../dataset/python/109.py\n",
      "[Processing] ../../dataset/python/31.py\n"
     ]
    },
    {
     "name": "stderr",
     "output_type": "stream",
     "text": [
      "处理文件:  33%|███▎      | 70/210 [01:54<03:49,  1.64s/it]"
     ]
    },
    {
     "name": "stdout",
     "output_type": "stream",
     "text": [
      "[LLM AST] => llm_ast/cfg_block/193.py.json\n",
      "[TS AST] => static_ast/193.py.json\n",
      "[Processing done] ../../dataset/python/193.py\n",
      "[Processing] ../../dataset/python/21.py\n"
     ]
    },
    {
     "name": "stderr",
     "output_type": "stream",
     "text": [
      "处理文件:  34%|███▍      | 71/210 [01:56<04:16,  1.84s/it]"
     ]
    },
    {
     "name": "stdout",
     "output_type": "stream",
     "text": [
      "[LLM AST] => llm_ast/cfg_block/136.py.json\n",
      "[TS AST] => static_ast/136.py.json\n",
      "[Processing done] ../../dataset/python/136.py\n",
      "[Processing] ../../dataset/python/162.py\n"
     ]
    },
    {
     "name": "stderr",
     "output_type": "stream",
     "text": [
      "处理文件:  34%|███▍      | 72/210 [01:57<03:29,  1.52s/it]"
     ]
    },
    {
     "name": "stdout",
     "output_type": "stream",
     "text": [
      "[LLM AST] => llm_ast/cfg_block/100.py.json\n",
      "[TS AST] => static_ast/100.py.json\n",
      "[Processing done] ../../dataset/python/100.py\n",
      "[Processing] ../../dataset/python/22.py\n"
     ]
    },
    {
     "name": "stderr",
     "output_type": "stream",
     "text": [
      "处理文件:  35%|███▍      | 73/210 [01:58<02:51,  1.25s/it]"
     ]
    },
    {
     "name": "stdout",
     "output_type": "stream",
     "text": [
      "[LLM AST] => llm_ast/cfg_block/185.py.json\n",
      "[TS AST] => static_ast/185.py.json\n",
      "[Processing done] ../../dataset/python/185.py\n",
      "[Processing] ../../dataset/python/127.py\n"
     ]
    },
    {
     "name": "stderr",
     "output_type": "stream",
     "text": [
      "处理文件:  35%|███▌      | 74/210 [01:58<02:22,  1.05s/it]"
     ]
    },
    {
     "name": "stdout",
     "output_type": "stream",
     "text": [
      "[LLM AST] => llm_ast/cfg_block/5.py.json\n",
      "[TS AST] => static_ast/5.py.json\n",
      "[Processing done] ../../dataset/python/5.py\n",
      "[Processing] ../../dataset/python/135.py\n"
     ]
    },
    {
     "name": "stderr",
     "output_type": "stream",
     "text": [
      "处理文件:  36%|███▌      | 75/210 [01:59<01:56,  1.16it/s]"
     ]
    },
    {
     "name": "stdout",
     "output_type": "stream",
     "text": [
      "[LLM AST] => llm_ast/cfg_block/184.py.json\n",
      "[TS AST] => static_ast/184.py.json\n",
      "[Processing done] ../../dataset/python/184.py\n",
      "[Processing] ../../dataset/python/10.py\n"
     ]
    },
    {
     "name": "stderr",
     "output_type": "stream",
     "text": [
      "处理文件:  36%|███▌      | 76/210 [01:59<02:00,  1.11it/s]"
     ]
    },
    {
     "name": "stdout",
     "output_type": "stream",
     "text": [
      "[LLM AST] => llm_ast/cfg_block/128.py.json\n",
      "[TS AST] => static_ast/128.py.json\n",
      "[Processing done] ../../dataset/python/128.py\n",
      "[Processing] ../../dataset/python/130.py\n"
     ]
    },
    {
     "name": "stderr",
     "output_type": "stream",
     "text": [
      "处理文件:  37%|███▋      | 77/210 [02:01<02:13,  1.00s/it]"
     ]
    },
    {
     "name": "stdout",
     "output_type": "stream",
     "text": [
      "[LLM AST] => llm_ast/cfg_block/6.py.json\n",
      "[TS AST] => static_ast/6.py.json\n",
      "[Processing done] ../../dataset/python/6.py\n",
      "[Processing] ../../dataset/python/49.py\n"
     ]
    },
    {
     "name": "stderr",
     "output_type": "stream",
     "text": [
      "处理文件:  37%|███▋      | 78/210 [02:03<03:04,  1.40s/it]"
     ]
    },
    {
     "name": "stdout",
     "output_type": "stream",
     "text": [
      "[LLM AST] => llm_ast/cfg_block/13.py.json\n",
      "[TS AST] => static_ast/13.py.json\n",
      "[Processing done] ../../dataset/python/13.py\n",
      "[Processing] ../../dataset/python/153.py\n"
     ]
    },
    {
     "name": "stderr",
     "output_type": "stream",
     "text": [
      "处理文件:  38%|███▊      | 79/210 [02:05<03:20,  1.53s/it]"
     ]
    },
    {
     "name": "stdout",
     "output_type": "stream",
     "text": [
      "[LLM AST] => llm_ast/cfg_block/35.py.json\n",
      "[TS AST] => static_ast/35.py.json\n",
      "[Processing done] ../../dataset/python/35.py\n",
      "[Processing] ../../dataset/python/124.py\n",
      "[LLM AST] => llm_ast/cfg_block/37.py.json\n",
      "[TS AST] => static_ast/37.py.json\n",
      "[Processing done] ../../dataset/python/37.py\n",
      "[Processing] ../../dataset/python/191.py\n"
     ]
    },
    {
     "name": "stderr",
     "output_type": "stream",
     "text": [
      "处理文件:  39%|███▊      | 81/210 [02:05<01:54,  1.13it/s]"
     ]
    },
    {
     "name": "stdout",
     "output_type": "stream",
     "text": [
      "[LLM AST] => llm_ast/cfg_block/72.py.json\n",
      "[TS AST] => static_ast/72.py.json\n",
      "[Processing done] ../../dataset/python/72.py\n",
      "[Processing] ../../dataset/python/173.py\n"
     ]
    },
    {
     "name": "stderr",
     "output_type": "stream",
     "text": [
      "处理文件:  39%|███▉      | 82/210 [02:07<02:10,  1.02s/it]"
     ]
    },
    {
     "name": "stdout",
     "output_type": "stream",
     "text": [
      "[LLM AST] => llm_ast/cfg_block/88.py.json\n",
      "[TS AST] => static_ast/88.py.json\n",
      "[Processing done] ../../dataset/python/88.py\n",
      "[Processing] ../../dataset/python/39.py\n"
     ]
    },
    {
     "name": "stderr",
     "output_type": "stream",
     "text": [
      "处理文件:  40%|███▉      | 83/210 [02:07<01:54,  1.11it/s]"
     ]
    },
    {
     "name": "stdout",
     "output_type": "stream",
     "text": [
      "[LLM AST] => llm_ast/cfg_block/64.py.json\n",
      "[TS AST] => static_ast/64.py.json\n",
      "[Processing done] ../../dataset/python/64.py\n",
      "[Processing] ../../dataset/python/61.py\n"
     ]
    },
    {
     "name": "stderr",
     "output_type": "stream",
     "text": [
      "处理文件:  40%|████      | 85/210 [02:15<04:18,  2.06s/it]"
     ]
    },
    {
     "name": "stdout",
     "output_type": "stream",
     "text": [
      "[LLM AST] => llm_ast/cfg_block/34.py.json\n",
      "[TS AST] => static_ast/34.py.json\n",
      "[Processing done] ../../dataset/python/34.py\n",
      "[Processing] ../../dataset/python/16.py\n",
      "[LLM AST] => llm_ast/cfg_block/47.py.json\n",
      "[TS AST] => static_ast/47.py.json\n",
      "[Processing done] ../../dataset/python/47.py\n",
      "[Processing] ../../dataset/python/17.py\n"
     ]
    },
    {
     "name": "stderr",
     "output_type": "stream",
     "text": [
      "处理文件:  41%|████      | 86/210 [02:18<04:31,  2.19s/it]"
     ]
    },
    {
     "name": "stdout",
     "output_type": "stream",
     "text": [
      "[LLM AST] => llm_ast/cfg_block/93.py.json\n",
      "[TS AST] => static_ast/93.py.json\n",
      "[Processing done] ../../dataset/python/93.py\n",
      "[Processing] ../../dataset/python/137.py\n"
     ]
    },
    {
     "name": "stderr",
     "output_type": "stream",
     "text": [
      "处理文件:  41%|████▏     | 87/210 [02:19<03:41,  1.80s/it]"
     ]
    },
    {
     "name": "stdout",
     "output_type": "stream",
     "text": [
      "[LLM AST] => llm_ast/cfg_block/31.py.json\n",
      "[TS AST] => static_ast/31.py.json\n",
      "[Processing done] ../../dataset/python/31.py\n",
      "[Processing] ../../dataset/python/3.py\n"
     ]
    },
    {
     "name": "stderr",
     "output_type": "stream",
     "text": [
      "处理文件:  42%|████▏     | 88/210 [02:20<03:11,  1.57s/it]"
     ]
    },
    {
     "name": "stdout",
     "output_type": "stream",
     "text": [
      "[LLM AST] => llm_ast/cfg_block/197.py.json\n",
      "[TS AST] => static_ast/197.py.json\n",
      "[Processing done] ../../dataset/python/197.py\n",
      "[Processing] ../../dataset/python/179.py\n"
     ]
    },
    {
     "name": "stderr",
     "output_type": "stream",
     "text": [
      "处理文件:  42%|████▏     | 89/210 [02:21<02:56,  1.46s/it]"
     ]
    },
    {
     "name": "stdout",
     "output_type": "stream",
     "text": [
      "[LLM AST] => llm_ast/cfg_block/86.py.json\n",
      "[TS AST] => static_ast/86.py.json\n",
      "[Processing done] ../../dataset/python/86.py\n",
      "[Processing] ../../dataset/python/146.py\n"
     ]
    },
    {
     "name": "stderr",
     "output_type": "stream",
     "text": [
      "处理文件:  43%|████▎     | 90/210 [02:22<02:59,  1.49s/it]"
     ]
    },
    {
     "name": "stdout",
     "output_type": "stream",
     "text": [
      "[LLM AST] => llm_ast/cfg_block/163.py.json\n",
      "[TS AST] => static_ast/163.py.json\n",
      "[Processing done] ../../dataset/python/163.py\n",
      "[Processing] ../../dataset/python/134.py\n"
     ]
    },
    {
     "name": "stderr",
     "output_type": "stream",
     "text": [
      "处理文件:  43%|████▎     | 91/210 [02:23<02:35,  1.31s/it]"
     ]
    },
    {
     "name": "stdout",
     "output_type": "stream",
     "text": [
      "[LLM AST] => llm_ast/cfg_block/152.py.json\n",
      "[TS AST] => static_ast/152.py.json\n",
      "[Processing done] ../../dataset/python/152.py\n",
      "[Processing] ../../dataset/python/168.py\n"
     ]
    },
    {
     "name": "stderr",
     "output_type": "stream",
     "text": [
      "处理文件:  44%|████▍     | 92/210 [02:25<02:39,  1.35s/it]"
     ]
    },
    {
     "name": "stdout",
     "output_type": "stream",
     "text": [
      "[LLM AST] => llm_ast/cfg_block/204.py.json\n",
      "[TS AST] => static_ast/204.py.json\n",
      "[Processing done] ../../dataset/python/204.py\n",
      "[Processing] ../../dataset/python/7.py\n"
     ]
    },
    {
     "name": "stderr",
     "output_type": "stream",
     "text": [
      "处理文件:  44%|████▍     | 93/210 [02:25<02:11,  1.13s/it]"
     ]
    },
    {
     "name": "stdout",
     "output_type": "stream",
     "text": [
      "[LLM AST] => llm_ast/cfg_block/174.py.json\n",
      "[TS AST] => static_ast/174.py.json\n",
      "[Processing done] ../../dataset/python/174.py\n",
      "[Processing] ../../dataset/python/206.py\n"
     ]
    },
    {
     "name": "stderr",
     "output_type": "stream",
     "text": [
      "处理文件:  45%|████▍     | 94/210 [02:29<03:27,  1.79s/it]"
     ]
    },
    {
     "name": "stdout",
     "output_type": "stream",
     "text": [
      "[LLM AST] => llm_ast/cfg_block/108.py.json\n",
      "[TS AST] => static_ast/108.py.json\n",
      "[Processing done] ../../dataset/python/108.py\n",
      "[Processing] ../../dataset/python/105.py\n",
      "[LLM AST] => llm_ast/cfg_block/84.py.json\n",
      "[TS AST] => static_ast/84.py.json\n",
      "[Processing done] ../../dataset/python/84.py\n",
      "[Processing] ../../dataset/python/85.py\n"
     ]
    },
    {
     "name": "stderr",
     "output_type": "stream",
     "text": [
      "处理文件:  46%|████▌     | 96/210 [02:29<02:12,  1.17s/it]"
     ]
    },
    {
     "name": "stdout",
     "output_type": "stream",
     "text": [
      "[LLM AST] => llm_ast/cfg_block/207.py.json\n",
      "[TS AST] => static_ast/207.py.json\n",
      "[Processing done] ../../dataset/python/207.py\n",
      "[Processing] ../../dataset/python/76.py\n"
     ]
    },
    {
     "name": "stderr",
     "output_type": "stream",
     "text": [
      "处理文件:  46%|████▌     | 97/210 [02:37<05:21,  2.85s/it]"
     ]
    },
    {
     "name": "stdout",
     "output_type": "stream",
     "text": [
      "[LLM AST] => llm_ast/cfg_block/65.py.json\n",
      "[TS AST] => static_ast/65.py.json\n",
      "[Processing done] ../../dataset/python/65.py\n",
      "[Processing] ../../dataset/python/0.py\n"
     ]
    },
    {
     "name": "stderr",
     "output_type": "stream",
     "text": [
      "处理文件:  47%|████▋     | 98/210 [02:40<05:00,  2.69s/it]"
     ]
    },
    {
     "name": "stdout",
     "output_type": "stream",
     "text": [
      "[LLM AST] => llm_ast/cfg_block/160.py.json\n",
      "[TS AST] => static_ast/160.py.json\n",
      "[Processing done] ../../dataset/python/160.py\n",
      "[Processing] ../../dataset/python/143.py\n"
     ]
    },
    {
     "name": "stderr",
     "output_type": "stream",
     "text": [
      "处理文件:  47%|████▋     | 99/210 [02:40<03:46,  2.04s/it]"
     ]
    },
    {
     "name": "stdout",
     "output_type": "stream",
     "text": [
      "[LLM AST] => llm_ast/cfg_block/205.py.json\n",
      "[TS AST] => static_ast/205.py.json\n",
      "[Processing done] ../../dataset/python/205.py\n"
     ]
    },
    {
     "name": "stderr",
     "output_type": "stream",
     "text": [
      "处理文件:  48%|████▊     | 100/210 [02:42<03:55,  2.14s/it]"
     ]
    },
    {
     "name": "stdout",
     "output_type": "stream",
     "text": [
      "[LLM AST] => llm_ast/cfg_block/139.py.json\n",
      "[TS AST] => static_ast/139.py.json\n",
      "[Processing done] ../../dataset/python/139.py\n"
     ]
    },
    {
     "name": "stderr",
     "output_type": "stream",
     "text": [
      "处理文件:  48%|████▊     | 101/210 [02:43<02:56,  1.62s/it]"
     ]
    },
    {
     "name": "stdout",
     "output_type": "stream",
     "text": [
      "[LLM AST] => llm_ast/cfg_block/150.py.json\n",
      "[TS AST] => static_ast/150.py.json\n",
      "[Processing done] ../../dataset/python/150.py\n"
     ]
    },
    {
     "name": "stderr",
     "output_type": "stream",
     "text": [
      "处理文件:  49%|████▊     | 102/210 [02:48<05:03,  2.81s/it]"
     ]
    },
    {
     "name": "stdout",
     "output_type": "stream",
     "text": [
      "[LLM AST] => llm_ast/cfg_block/135.py.json\n",
      "[TS AST] => static_ast/135.py.json\n",
      "[Processing done] ../../dataset/python/135.py\n"
     ]
    },
    {
     "name": "stderr",
     "output_type": "stream",
     "text": [
      "处理文件:  49%|████▉     | 103/210 [02:49<04:00,  2.25s/it]"
     ]
    },
    {
     "name": "stdout",
     "output_type": "stream",
     "text": [
      "[LLM AST] => llm_ast/cfg_block/46.py.json\n",
      "[TS AST] => static_ast/46.py.json\n",
      "[Processing done] ../../dataset/python/46.py\n"
     ]
    },
    {
     "name": "stderr",
     "output_type": "stream",
     "text": [
      "处理文件:  50%|████▉     | 104/210 [02:50<02:58,  1.69s/it]"
     ]
    },
    {
     "name": "stdout",
     "output_type": "stream",
     "text": [
      "[LLM AST] => llm_ast/cfg_block/66.py.json\n",
      "[TS AST] => static_ast/66.py.json\n",
      "[Processing done] ../../dataset/python/66.py\n"
     ]
    },
    {
     "name": "stderr",
     "output_type": "stream",
     "text": [
      "处理文件:  50%|█████     | 105/210 [02:54<04:04,  2.33s/it]"
     ]
    },
    {
     "name": "stdout",
     "output_type": "stream",
     "text": [
      "[LLM AST] => llm_ast/cfg_block/3.py.json\n",
      "[TS AST] => static_ast/3.py.json\n",
      "[Processing done] ../../dataset/python/3.py\n"
     ]
    },
    {
     "name": "stderr",
     "output_type": "stream",
     "text": [
      "处理文件:  51%|█████     | 107/210 [02:54<02:14,  1.31s/it]"
     ]
    },
    {
     "name": "stdout",
     "output_type": "stream",
     "text": [
      "[LLM AST] => llm_ast/cfg_block/147.py.json\n",
      "[TS AST] => static_ast/147.py.json\n",
      "[Processing done] ../../dataset/python/147.py\n",
      "[LLM AST] => llm_ast/cfg_block/142.py.json\n",
      "[TS AST] => static_ast/142.py.json\n",
      "[Processing done] ../../dataset/python/142.py\n",
      "[LLM AST] => llm_ast/cfg_block/55.py.json\n",
      "[TS AST] => static_ast/55.py.json\n",
      "[Processing done] ../../dataset/python/55.py\n"
     ]
    },
    {
     "name": "stderr",
     "output_type": "stream",
     "text": [
      "处理文件:  52%|█████▏    | 109/210 [02:58<02:30,  1.49s/it]"
     ]
    },
    {
     "name": "stdout",
     "output_type": "stream",
     "text": [
      "[LLM AST] => llm_ast/cfg_block/181.py.json\n",
      "[TS AST] => static_ast/181.py.json\n",
      "[Processing done] ../../dataset/python/181.py\n"
     ]
    },
    {
     "name": "stderr",
     "output_type": "stream",
     "text": [
      "处理文件:  52%|█████▏    | 110/210 [03:00<02:55,  1.76s/it]"
     ]
    },
    {
     "name": "stdout",
     "output_type": "stream",
     "text": [
      "[LLM AST] => llm_ast/cfg_block/44.py.json\n",
      "[TS AST] => static_ast/44.py.json\n",
      "[Processing done] ../../dataset/python/44.py\n"
     ]
    },
    {
     "name": "stderr",
     "output_type": "stream",
     "text": [
      "处理文件:  53%|█████▎    | 111/210 [03:02<02:47,  1.69s/it]"
     ]
    },
    {
     "name": "stdout",
     "output_type": "stream",
     "text": [
      "[LLM AST] => llm_ast/cfg_block/62.py.json\n",
      "[TS AST] => static_ast/62.py.json\n",
      "[Processing done] ../../dataset/python/62.py\n"
     ]
    },
    {
     "name": "stderr",
     "output_type": "stream",
     "text": [
      "处理文件:  54%|█████▍    | 113/210 [03:05<02:26,  1.51s/it]"
     ]
    },
    {
     "name": "stdout",
     "output_type": "stream",
     "text": [
      "[LLM AST] => llm_ast/cfg_block/148.py.json\n",
      "[TS AST] => static_ast/148.py.json\n",
      "[Processing done] ../../dataset/python/148.py\n",
      "[LLM AST] => llm_ast/cfg_block/76.py.json\n",
      "[TS AST] => static_ast/76.py.json\n",
      "[Processing done] ../../dataset/python/76.py\n"
     ]
    },
    {
     "name": "stderr",
     "output_type": "stream",
     "text": [
      "处理文件:  54%|█████▍    | 114/210 [03:09<03:24,  2.13s/it]"
     ]
    },
    {
     "name": "stdout",
     "output_type": "stream",
     "text": [
      "[LLM AST] => llm_ast/cfg_block/87.py.json\n",
      "[TS AST] => static_ast/87.py.json\n",
      "[Processing done] ../../dataset/python/87.py\n"
     ]
    },
    {
     "name": "stderr",
     "output_type": "stream",
     "text": [
      "处理文件:  55%|█████▍    | 115/210 [03:10<02:53,  1.83s/it]"
     ]
    },
    {
     "name": "stdout",
     "output_type": "stream",
     "text": [
      "[LLM AST] => llm_ast/cfg_block/173.py.json\n",
      "[TS AST] => static_ast/173.py.json\n",
      "[Processing done] ../../dataset/python/173.py\n"
     ]
    },
    {
     "name": "stderr",
     "output_type": "stream",
     "text": [
      "处理文件:  55%|█████▌    | 116/210 [03:11<02:39,  1.69s/it]"
     ]
    },
    {
     "name": "stdout",
     "output_type": "stream",
     "text": [
      "[LLM AST] => llm_ast/cfg_block/201.py.json\n",
      "[TS AST] => static_ast/201.py.json\n",
      "[Processing done] ../../dataset/python/201.py\n"
     ]
    },
    {
     "name": "stderr",
     "output_type": "stream",
     "text": [
      "处理文件:  56%|█████▌    | 117/210 [03:12<02:05,  1.35s/it]"
     ]
    },
    {
     "name": "stdout",
     "output_type": "stream",
     "text": [
      "[LLM AST] => llm_ast/cfg_block/206.py.json\n",
      "[TS AST] => static_ast/206.py.json\n",
      "[Processing done] ../../dataset/python/206.py\n"
     ]
    },
    {
     "name": "stderr",
     "output_type": "stream",
     "text": [
      "处理文件:  56%|█████▌    | 118/210 [03:13<01:56,  1.27s/it]"
     ]
    },
    {
     "name": "stdout",
     "output_type": "stream",
     "text": [
      "[LLM AST] => llm_ast/cfg_block/145.py.json\n",
      "[TS AST] => static_ast/145.py.json\n",
      "[Processing done] ../../dataset/python/145.py\n"
     ]
    },
    {
     "name": "stderr",
     "output_type": "stream",
     "text": [
      "处理文件:  57%|█████▋    | 119/210 [03:14<01:56,  1.28s/it]"
     ]
    },
    {
     "name": "stdout",
     "output_type": "stream",
     "text": [
      "[LLM AST] => llm_ast/cfg_block/182.py.json\n",
      "[TS AST] => static_ast/182.py.json\n",
      "[Processing done] ../../dataset/python/182.py\n"
     ]
    },
    {
     "name": "stderr",
     "output_type": "stream",
     "text": [
      "处理文件:  57%|█████▋    | 120/210 [03:19<03:46,  2.52s/it]"
     ]
    },
    {
     "name": "stdout",
     "output_type": "stream",
     "text": [
      "[LLM AST] => llm_ast/cfg_block/157.py.json\n",
      "[TS AST] => static_ast/157.py.json\n",
      "[Processing done] ../../dataset/python/157.py\n"
     ]
    },
    {
     "name": "stderr",
     "output_type": "stream",
     "text": [
      "处理文件:  58%|█████▊    | 121/210 [03:25<05:06,  3.44s/it]"
     ]
    },
    {
     "name": "stdout",
     "output_type": "stream",
     "text": [
      "[LLM AST] => llm_ast/cfg_block/56.py.json\n",
      "[TS AST] => static_ast/56.py.json\n",
      "[Processing done] ../../dataset/python/56.py\n"
     ]
    },
    {
     "name": "stderr",
     "output_type": "stream",
     "text": [
      "处理文件:  58%|█████▊    | 122/210 [03:27<04:30,  3.07s/it]"
     ]
    },
    {
     "name": "stdout",
     "output_type": "stream",
     "text": [
      "[LLM AST] => llm_ast/cfg_block/63.py.json\n",
      "[TS AST] => static_ast/63.py.json\n",
      "[Processing done] ../../dataset/python/63.py\n"
     ]
    },
    {
     "name": "stderr",
     "output_type": "stream",
     "text": [
      "处理文件:  59%|█████▊    | 123/210 [03:33<05:30,  3.80s/it]"
     ]
    },
    {
     "name": "stdout",
     "output_type": "stream",
     "text": [
      "[LLM AST] => llm_ast/cfg_block/168.py.json\n",
      "[TS AST] => static_ast/168.py.json\n",
      "[Processing done] ../../dataset/python/168.py\n"
     ]
    },
    {
     "name": "stderr",
     "output_type": "stream",
     "text": [
      "处理文件:  59%|█████▉    | 124/210 [03:34<04:36,  3.21s/it]"
     ]
    },
    {
     "name": "stdout",
     "output_type": "stream",
     "text": [
      "[LLM AST] => llm_ast/cfg_block/61.py.json\n",
      "[TS AST] => static_ast/61.py.json\n",
      "[Processing done] ../../dataset/python/61.py\n"
     ]
    },
    {
     "name": "stderr",
     "output_type": "stream",
     "text": [
      "处理文件:  60%|█████▉    | 125/210 [03:36<03:40,  2.59s/it]"
     ]
    },
    {
     "name": "stdout",
     "output_type": "stream",
     "text": [
      "[LLM AST] => llm_ast/cfg_block/19.py.json\n",
      "[TS AST] => static_ast/19.py.json\n",
      "[Processing done] ../../dataset/python/19.py\n"
     ]
    },
    {
     "name": "stderr",
     "output_type": "stream",
     "text": [
      "处理文件:  60%|██████    | 126/210 [03:38<03:37,  2.59s/it]"
     ]
    },
    {
     "name": "stdout",
     "output_type": "stream",
     "text": [
      "[LLM AST] => llm_ast/cfg_block/127.py.json\n",
      "[TS AST] => static_ast/127.py.json\n",
      "[Processing done] ../../dataset/python/127.py\n"
     ]
    },
    {
     "name": "stderr",
     "output_type": "stream",
     "text": [
      "处理文件:  60%|██████    | 127/210 [03:42<04:08,  2.99s/it]"
     ]
    },
    {
     "name": "stdout",
     "output_type": "stream",
     "text": [
      "[LLM AST] => llm_ast/cfg_block/27.py.json\n",
      "[TS AST] => static_ast/27.py.json\n",
      "[Processing done] ../../dataset/python/27.py\n"
     ]
    },
    {
     "name": "stderr",
     "output_type": "stream",
     "text": [
      "处理文件:  61%|██████    | 128/210 [03:44<03:42,  2.72s/it]"
     ]
    },
    {
     "name": "stdout",
     "output_type": "stream",
     "text": [
      "[LLM AST] => llm_ast/cfg_block/180.py.json\n",
      "[TS AST] => static_ast/180.py.json\n",
      "[Processing done] ../../dataset/python/180.py\n"
     ]
    },
    {
     "name": "stderr",
     "output_type": "stream",
     "text": [
      "处理文件:  61%|██████▏   | 129/210 [03:47<03:50,  2.85s/it]"
     ]
    },
    {
     "name": "stdout",
     "output_type": "stream",
     "text": [
      "[LLM AST] => llm_ast/cfg_block/179.py.json\n",
      "[TS AST] => static_ast/179.py.json\n",
      "[Processing done] ../../dataset/python/179.py\n"
     ]
    },
    {
     "name": "stderr",
     "output_type": "stream",
     "text": [
      "处理文件:  62%|██████▏   | 130/210 [03:49<03:19,  2.49s/it]"
     ]
    },
    {
     "name": "stdout",
     "output_type": "stream",
     "text": [
      "[LLM AST] => llm_ast/cfg_block/25.py.json\n",
      "[TS AST] => static_ast/25.py.json\n",
      "[Processing done] ../../dataset/python/25.py\n"
     ]
    },
    {
     "name": "stderr",
     "output_type": "stream",
     "text": [
      "处理文件:  62%|██████▏   | 131/210 [03:51<02:59,  2.27s/it]"
     ]
    },
    {
     "name": "stdout",
     "output_type": "stream",
     "text": [
      "[LLM AST] => llm_ast/cfg_block/138.py.json\n",
      "[TS AST] => static_ast/138.py.json\n",
      "[Processing done] ../../dataset/python/138.py\n"
     ]
    },
    {
     "name": "stderr",
     "output_type": "stream",
     "text": [
      "处理文件:  63%|██████▎   | 132/210 [03:53<02:56,  2.27s/it]"
     ]
    },
    {
     "name": "stdout",
     "output_type": "stream",
     "text": [
      "[LLM AST] => llm_ast/cfg_block/15.py.json\n",
      "[TS AST] => static_ast/15.py.json\n",
      "[Processing done] ../../dataset/python/15.py\n"
     ]
    },
    {
     "name": "stderr",
     "output_type": "stream",
     "text": [
      "处理文件:  63%|██████▎   | 133/210 [03:55<02:49,  2.20s/it]"
     ]
    },
    {
     "name": "stdout",
     "output_type": "stream",
     "text": [
      "[LLM AST] => llm_ast/cfg_block/116.py.json\n",
      "[TS AST] => static_ast/116.py.json\n",
      "[Processing done] ../../dataset/python/116.py\n"
     ]
    },
    {
     "name": "stderr",
     "output_type": "stream",
     "text": [
      "处理文件:  64%|██████▍   | 134/210 [03:56<02:22,  1.87s/it]"
     ]
    },
    {
     "name": "stdout",
     "output_type": "stream",
     "text": [
      "[LLM AST] => llm_ast/cfg_block/95.py.json\n",
      "[TS AST] => static_ast/95.py.json\n",
      "[Processing done] ../../dataset/python/95.py\n"
     ]
    },
    {
     "name": "stderr",
     "output_type": "stream",
     "text": [
      "处理文件:  64%|██████▍   | 135/210 [03:58<02:22,  1.90s/it]"
     ]
    },
    {
     "name": "stdout",
     "output_type": "stream",
     "text": [
      "[LLM AST] => llm_ast/cfg_block/74.py.json\n",
      "[TS AST] => static_ast/74.py.json\n",
      "[Processing done] ../../dataset/python/74.py\n"
     ]
    },
    {
     "name": "stderr",
     "output_type": "stream",
     "text": [
      "处理文件:  65%|██████▍   | 136/210 [03:59<01:59,  1.62s/it]"
     ]
    },
    {
     "name": "stdout",
     "output_type": "stream",
     "text": [
      "[LLM AST] => llm_ast/cfg_block/8.py.json\n",
      "[TS AST] => static_ast/8.py.json\n",
      "[Processing done] ../../dataset/python/8.py\n",
      "[LLM AST] => llm_ast/cfg_block/113.py.json\n"
     ]
    },
    {
     "name": "stderr",
     "output_type": "stream",
     "text": [
      "处理文件:  65%|██████▌   | 137/210 [04:00<01:39,  1.36s/it]"
     ]
    },
    {
     "name": "stdout",
     "output_type": "stream",
     "text": [
      "[TS AST] => static_ast/113.py.json\n",
      "[Processing done] ../../dataset/python/113.py\n"
     ]
    },
    {
     "name": "stderr",
     "output_type": "stream",
     "text": [
      "处理文件:  66%|██████▌   | 138/210 [04:04<02:39,  2.22s/it]"
     ]
    },
    {
     "name": "stdout",
     "output_type": "stream",
     "text": [
      "[LLM AST] => llm_ast/cfg_block/161.py.json\n",
      "[TS AST] => static_ast/161.py.json\n",
      "[Processing done] ../../dataset/python/161.py\n"
     ]
    },
    {
     "name": "stderr",
     "output_type": "stream",
     "text": [
      "处理文件:  67%|██████▋   | 140/210 [04:06<01:41,  1.45s/it]"
     ]
    },
    {
     "name": "stdout",
     "output_type": "stream",
     "text": [
      "[LLM AST] => llm_ast/cfg_block/125.py.json\n",
      "[TS AST] => static_ast/125.py.json\n",
      "[Processing done] ../../dataset/python/125.py\n",
      "[LLM AST] => llm_ast/cfg_block/130.py.json\n",
      "[TS AST] => static_ast/130.py.json\n",
      "[Processing done] ../../dataset/python/130.py\n"
     ]
    },
    {
     "name": "stderr",
     "output_type": "stream",
     "text": [
      "处理文件:  67%|██████▋   | 141/210 [04:06<01:23,  1.21s/it]"
     ]
    },
    {
     "name": "stdout",
     "output_type": "stream",
     "text": [
      "[LLM AST] => llm_ast/cfg_block/191.py.json\n",
      "[TS AST] => static_ast/191.py.json\n",
      "[Processing done] ../../dataset/python/191.py\n"
     ]
    },
    {
     "name": "stderr",
     "output_type": "stream",
     "text": [
      "处理文件:  68%|██████▊   | 142/210 [04:07<01:07,  1.01it/s]"
     ]
    },
    {
     "name": "stdout",
     "output_type": "stream",
     "text": [
      "[LLM AST] => llm_ast/cfg_block/155.py.json\n",
      "[TS AST] => static_ast/155.py.json\n",
      "[Processing done] ../../dataset/python/155.py\n"
     ]
    },
    {
     "name": "stderr",
     "output_type": "stream",
     "text": [
      "处理文件:  68%|██████▊   | 143/210 [04:08<01:09,  1.04s/it]"
     ]
    },
    {
     "name": "stdout",
     "output_type": "stream",
     "text": [
      "[LLM AST] => llm_ast/cfg_block/105.py.json\n",
      "[TS AST] => static_ast/105.py.json\n",
      "[Processing done] ../../dataset/python/105.py\n"
     ]
    },
    {
     "name": "stderr",
     "output_type": "stream",
     "text": [
      "处理文件:  69%|██████▊   | 144/210 [04:11<01:44,  1.59s/it]"
     ]
    },
    {
     "name": "stdout",
     "output_type": "stream",
     "text": [
      "[LLM AST] => llm_ast/cfg_block/106.py.json\n",
      "[TS AST] => static_ast/106.py.json\n",
      "[Processing done] ../../dataset/python/106.py\n"
     ]
    },
    {
     "name": "stderr",
     "output_type": "stream",
     "text": [
      "处理文件:  69%|██████▉   | 145/210 [04:18<03:33,  3.29s/it]"
     ]
    },
    {
     "name": "stdout",
     "output_type": "stream",
     "text": [
      "[LLM AST] => llm_ast/cfg_block/16.py.json\n",
      "[TS AST] => static_ast/16.py.json\n",
      "[Processing done] ../../dataset/python/16.py\n"
     ]
    },
    {
     "name": "stderr",
     "output_type": "stream",
     "text": [
      "处理文件:  70%|██████▉   | 146/210 [04:19<02:36,  2.45s/it]"
     ]
    },
    {
     "name": "stdout",
     "output_type": "stream",
     "text": [
      "[LLM AST] => llm_ast/cfg_block/68.py.json\n",
      "[TS AST] => static_ast/68.py.json\n",
      "[Processing done] ../../dataset/python/68.py\n"
     ]
    },
    {
     "name": "stderr",
     "output_type": "stream",
     "text": [
      "处理文件:  70%|███████   | 147/210 [04:19<01:55,  1.84s/it]"
     ]
    },
    {
     "name": "stdout",
     "output_type": "stream",
     "text": [
      "[LLM AST] => llm_ast/cfg_block/137.py.json\n",
      "[TS AST] => static_ast/137.py.json\n",
      "[Processing done] ../../dataset/python/137.py\n"
     ]
    },
    {
     "name": "stderr",
     "output_type": "stream",
     "text": [
      "处理文件:  70%|███████   | 148/210 [04:24<02:47,  2.70s/it]"
     ]
    },
    {
     "name": "stdout",
     "output_type": "stream",
     "text": [
      "[LLM AST] => llm_ast/cfg_block/154.py.json\n",
      "[TS AST] => static_ast/154.py.json\n",
      "[Processing done] ../../dataset/python/154.py\n"
     ]
    },
    {
     "name": "stderr",
     "output_type": "stream",
     "text": [
      "处理文件:  71%|███████   | 149/210 [04:24<02:01,  1.98s/it]"
     ]
    },
    {
     "name": "stdout",
     "output_type": "stream",
     "text": [
      "[LLM AST] => llm_ast/cfg_block/176.py.json\n",
      "[TS AST] => static_ast/176.py.json\n",
      "[Processing done] ../../dataset/python/176.py\n"
     ]
    },
    {
     "name": "stderr",
     "output_type": "stream",
     "text": [
      "处理文件:  71%|███████▏  | 150/210 [04:26<01:49,  1.83s/it]"
     ]
    },
    {
     "name": "stdout",
     "output_type": "stream",
     "text": [
      "[LLM AST] => llm_ast/cfg_block/101.py.json\n",
      "[TS AST] => static_ast/101.py.json\n",
      "[Processing done] ../../dataset/python/101.py\n"
     ]
    },
    {
     "name": "stderr",
     "output_type": "stream",
     "text": [
      "处理文件:  72%|███████▏  | 151/210 [04:32<03:01,  3.07s/it]"
     ]
    },
    {
     "name": "stdout",
     "output_type": "stream",
     "text": [
      "[LLM AST] => llm_ast/cfg_block/10.py.json\n",
      "[TS AST] => static_ast/10.py.json\n",
      "[Processing done] ../../dataset/python/10.py\n"
     ]
    },
    {
     "name": "stderr",
     "output_type": "stream",
     "text": [
      "处理文件:  72%|███████▏  | 152/210 [04:36<03:21,  3.48s/it]"
     ]
    },
    {
     "name": "stdout",
     "output_type": "stream",
     "text": [
      "[LLM AST] => llm_ast/cfg_block/23.py.json\n",
      "[TS AST] => static_ast/23.py.json\n",
      "[Processing done] ../../dataset/python/23.py\n"
     ]
    },
    {
     "name": "stderr",
     "output_type": "stream",
     "text": [
      "处理文件:  73%|███████▎  | 153/210 [04:37<02:29,  2.63s/it]"
     ]
    },
    {
     "name": "stdout",
     "output_type": "stream",
     "text": [
      "[LLM AST] => llm_ast/cfg_block/0.py.json\n",
      "[TS AST] => static_ast/0.py.json\n",
      "[Processing done] ../../dataset/python/0.py\n"
     ]
    },
    {
     "name": "stderr",
     "output_type": "stream",
     "text": [
      "处理文件:  73%|███████▎  | 154/210 [04:38<02:13,  2.39s/it]"
     ]
    },
    {
     "name": "stdout",
     "output_type": "stream",
     "text": [
      "[LLM AST] => llm_ast/cfg_block/49.py.json\n",
      "[TS AST] => static_ast/49.py.json\n",
      "[Processing done] ../../dataset/python/49.py\n"
     ]
    },
    {
     "name": "stderr",
     "output_type": "stream",
     "text": [
      "处理文件:  74%|███████▍  | 155/210 [04:42<02:37,  2.87s/it]"
     ]
    },
    {
     "name": "stdout",
     "output_type": "stream",
     "text": [
      "[LLM AST] => llm_ast/cfg_block/17.py.json\n",
      "[TS AST] => static_ast/17.py.json\n",
      "[Processing done] ../../dataset/python/17.py\n",
      "[LLM AST] => llm_ast/cfg_block/175.py.json\n"
     ]
    },
    {
     "name": "stderr",
     "output_type": "stream",
     "text": [
      "处理文件:  74%|███████▍  | 156/210 [04:55<05:18,  5.90s/it]"
     ]
    },
    {
     "name": "stdout",
     "output_type": "stream",
     "text": [
      "[LLM AST] => llm_ast/cfg_block/200.py.json\n",
      "[TS AST] => static_ast/200.py.json\n",
      "[Processing done] ../../dataset/python/200.py\n"
     ]
    },
    {
     "name": "stderr",
     "output_type": "stream",
     "text": [
      "处理文件:  75%|███████▍  | 157/210 [04:56<03:43,  4.22s/it]"
     ]
    },
    {
     "name": "stdout",
     "output_type": "stream",
     "text": [
      "[TS AST] => static_ast/175.py.json\n",
      "[Processing done] ../../dataset/python/175.py\n"
     ]
    },
    {
     "name": "stderr",
     "output_type": "stream",
     "text": [
      "处理文件:  75%|███████▌  | 158/210 [04:59<03:31,  4.07s/it]"
     ]
    },
    {
     "name": "stdout",
     "output_type": "stream",
     "text": [
      "[LLM AST] => llm_ast/cfg_block/67.py.json\n",
      "[TS AST] => static_ast/67.py.json\n",
      "[Processing done] ../../dataset/python/67.py\n"
     ]
    },
    {
     "name": "stderr",
     "output_type": "stream",
     "text": [
      "处理文件:  76%|███████▌  | 159/210 [05:02<03:06,  3.66s/it]"
     ]
    },
    {
     "name": "stdout",
     "output_type": "stream",
     "text": [
      "[LLM AST] => llm_ast/cfg_block/169.py.json\n",
      "[TS AST] => static_ast/169.py.json\n",
      "[Processing done] ../../dataset/python/169.py\n"
     ]
    },
    {
     "name": "stderr",
     "output_type": "stream",
     "text": [
      "处理文件:  76%|███████▌  | 160/210 [05:03<02:28,  2.97s/it]"
     ]
    },
    {
     "name": "stdout",
     "output_type": "stream",
     "text": [
      "[LLM AST] => llm_ast/cfg_block/57.py.json\n",
      "[TS AST] => static_ast/57.py.json\n",
      "[Processing done] ../../dataset/python/57.py\n"
     ]
    },
    {
     "name": "stderr",
     "output_type": "stream",
     "text": [
      "处理文件:  77%|███████▋  | 161/210 [05:06<02:12,  2.71s/it]"
     ]
    },
    {
     "name": "stdout",
     "output_type": "stream",
     "text": [
      "[LLM AST] => llm_ast/cfg_block/129.py.json\n",
      "[TS AST] => static_ast/129.py.json\n",
      "[Processing done] ../../dataset/python/129.py\n"
     ]
    },
    {
     "name": "stderr",
     "output_type": "stream",
     "text": [
      "处理文件:  77%|███████▋  | 162/210 [05:15<03:42,  4.64s/it]"
     ]
    },
    {
     "name": "stdout",
     "output_type": "stream",
     "text": [
      "[LLM AST] => llm_ast/cfg_block/140.py.json\n",
      "[TS AST] => static_ast/140.py.json\n",
      "[Processing done] ../../dataset/python/140.py\n"
     ]
    },
    {
     "name": "stderr",
     "output_type": "stream",
     "text": [
      "处理文件:  78%|███████▊  | 163/210 [05:17<03:10,  4.05s/it]"
     ]
    },
    {
     "name": "stdout",
     "output_type": "stream",
     "text": [
      "[LLM AST] => llm_ast/cfg_block/192.py.json\n",
      "[TS AST] => static_ast/192.py.json\n",
      "[Processing done] ../../dataset/python/192.py\n"
     ]
    },
    {
     "name": "stderr",
     "output_type": "stream",
     "text": [
      "处理文件:  78%|███████▊  | 164/210 [05:19<02:34,  3.36s/it]"
     ]
    },
    {
     "name": "stdout",
     "output_type": "stream",
     "text": [
      "[LLM AST] => llm_ast/cfg_block/131.py.json\n",
      "[LLM AST] => llm_ast/cfg_block/1.py.json\n",
      "[TS AST] => static_ast/131.py.json\n",
      "[Processing done] ../../dataset/python/131.py\n",
      "[TS AST] => static_ast/1.py.json\n",
      "[Processing done] ../../dataset/python/1.py\n"
     ]
    },
    {
     "name": "stderr",
     "output_type": "stream",
     "text": [
      "处理文件:  79%|███████▉  | 166/210 [05:25<02:19,  3.16s/it]"
     ]
    },
    {
     "name": "stdout",
     "output_type": "stream",
     "text": [
      "[LLM AST] => llm_ast/cfg_block/71.py.json\n",
      "[TS AST] => static_ast/71.py.json\n",
      "[Processing done] ../../dataset/python/71.py\n"
     ]
    },
    {
     "name": "stderr",
     "output_type": "stream",
     "text": [
      "处理文件:  80%|███████▉  | 167/210 [05:28<02:13,  3.11s/it]"
     ]
    },
    {
     "name": "stdout",
     "output_type": "stream",
     "text": [
      "[LLM AST] => llm_ast/cfg_block/90.py.json\n",
      "[TS AST] => static_ast/90.py.json\n",
      "[Processing done] ../../dataset/python/90.py\n"
     ]
    },
    {
     "name": "stderr",
     "output_type": "stream",
     "text": [
      "处理文件:  80%|████████  | 168/210 [05:32<02:20,  3.34s/it]"
     ]
    },
    {
     "name": "stdout",
     "output_type": "stream",
     "text": [
      "[LLM AST] => llm_ast/cfg_block/195.py.json\n",
      "[TS AST] => static_ast/195.py.json\n",
      "[Processing done] ../../dataset/python/195.py\n"
     ]
    },
    {
     "name": "stderr",
     "output_type": "stream",
     "text": [
      "处理文件:  80%|████████  | 169/210 [05:48<04:33,  6.66s/it]"
     ]
    },
    {
     "name": "stdout",
     "output_type": "stream",
     "text": [
      "[LLM AST] => llm_ast/cfg_block/26.py.json\n",
      "[TS AST] => static_ast/26.py.json\n",
      "[Processing done] ../../dataset/python/26.py\n"
     ]
    },
    {
     "name": "stderr",
     "output_type": "stream",
     "text": [
      "处理文件:  81%|████████  | 170/210 [05:48<03:20,  5.01s/it]"
     ]
    },
    {
     "name": "stdout",
     "output_type": "stream",
     "text": [
      "[LLM AST] => llm_ast/cfg_block/124.py.json\n",
      "[TS AST] => static_ast/124.py.json\n",
      "[Processing done] ../../dataset/python/124.py\n"
     ]
    },
    {
     "name": "stderr",
     "output_type": "stream",
     "text": [
      "处理文件:  81%|████████▏ | 171/210 [05:51<02:48,  4.31s/it]"
     ]
    },
    {
     "name": "stdout",
     "output_type": "stream",
     "text": [
      "[LLM AST] => llm_ast/cfg_block/134.py.json\n",
      "[TS AST] => static_ast/134.py.json\n",
      "[Processing done] ../../dataset/python/134.py\n"
     ]
    },
    {
     "name": "stderr",
     "output_type": "stream",
     "text": [
      "处理文件:  82%|████████▏ | 172/210 [05:52<02:06,  3.34s/it]"
     ]
    },
    {
     "name": "stdout",
     "output_type": "stream",
     "text": [
      "[LLM AST] => llm_ast/cfg_block/59.py.json\n",
      "[TS AST] => static_ast/59.py.json\n",
      "[Processing done] ../../dataset/python/59.py\n"
     ]
    },
    {
     "name": "stderr",
     "output_type": "stream",
     "text": [
      "处理文件:  82%|████████▏ | 173/210 [05:53<01:36,  2.60s/it]"
     ]
    },
    {
     "name": "stdout",
     "output_type": "stream",
     "text": [
      "[LLM AST] => llm_ast/cfg_block/178.py.json\n",
      "[TS AST] => static_ast/178.py.json\n",
      "[Processing done] ../../dataset/python/178.py\n"
     ]
    },
    {
     "name": "stderr",
     "output_type": "stream",
     "text": [
      "处理文件:  83%|████████▎ | 174/210 [05:53<01:11,  2.00s/it]"
     ]
    },
    {
     "name": "stdout",
     "output_type": "stream",
     "text": [
      "[LLM AST] => llm_ast/cfg_block/58.py.json\n",
      "[TS AST] => static_ast/58.py.json\n",
      "[Processing done] ../../dataset/python/58.py\n"
     ]
    },
    {
     "name": "stderr",
     "output_type": "stream",
     "text": [
      "处理文件:  83%|████████▎ | 175/210 [06:00<02:04,  3.55s/it]"
     ]
    },
    {
     "name": "stdout",
     "output_type": "stream",
     "text": [
      "[LLM AST] => llm_ast/cfg_block/77.py.json\n",
      "[TS AST] => static_ast/77.py.json\n",
      "[Processing done] ../../dataset/python/77.py\n",
      "[Error] llm_build_ast_from_tokens: <!DOCTYPE html>\n",
      "<!--[if lt IE 7]> <html class=\"no-js ie6 oldie\" lang=\"en-US\"> <![endif]-->\n",
      "<!--[if IE 7]>    <html class=\"no-js ie7 oldie\" lang=\"en-US\"> <![endif]-->\n",
      "<!--[if IE 8]>    <html class=\"no-js ie8 oldie\" lang=\"en-US\"> <![endif]-->\n",
      "<!--[if gt IE 8]><!--> <html class=\"no-js\" lang=\"en-US\"> <!--<![endif]-->\n",
      "<head>\n",
      "\n",
      "\n",
      "<title>xiaoai.plus | 524: A timeout occurred</title>\n",
      "<meta charset=\"UTF-8\" />\n",
      "<meta http-equiv=\"Content-Type\" content=\"text/html; charset=UTF-8\" />\n",
      "<meta http-equiv=\"X-UA-Compatible\" content=\"IE=Edge\" />\n",
      "<meta name=\"robots\" content=\"noindex, nofollow\" />\n",
      "<meta name=\"viewport\" content=\"width=device-width,initial-scale=1\" />\n",
      "<link rel=\"stylesheet\" id=\"cf_styles-css\" href=\"/cdn-cgi/styles/main.css\" />\n",
      "\n",
      "\n",
      "</head>\n",
      "<body>\n",
      "<div id=\"cf-wrapper\">\n",
      "    <div id=\"cf-error-details\" class=\"p-0\">\n",
      "        <header class=\"mx-auto pt-10 lg:pt-6 lg:px-8 w-240 lg:w-full mb-8\">\n",
      "            <h1 class=\"inline-block sm:block sm:mb-2 font-light text-60 lg:text-4xl text-black-dark leading-tight mr-2\">\n",
      "              <span class=\"inline-block\">A timeout occurred</span>\n",
      "              <span class=\"code-label\">Error code 524</span>\n",
      "            </h1>\n",
      "            <div>\n",
      "               Visit <a href=\"https://www.cloudflare.com/5xx-error-landing?utm_source=errorcode_524&utm_campaign=xiaoai.plus\" target=\"_blank\" rel=\"noopener noreferrer\">cloudflare.com</a> for more information.\n",
      "            </div>\n",
      "            <div class=\"mt-3\">2025-01-17 07:15:49 UTC</div>\n",
      "        </header>\n",
      "        <div class=\"my-8 bg-gradient-gray\">\n",
      "            <div class=\"w-240 lg:w-full mx-auto\">\n",
      "                <div class=\"clearfix md:px-8\">\n",
      "                  \n",
      "<div id=\"cf-browser-status\" class=\" relative w-1/3 md:w-full py-15 md:p-0 md:py-8 md:text-left md:border-solid md:border-0 md:border-b md:border-gray-400 overflow-hidden float-left md:float-none text-center\">\n",
      "  <div class=\"relative mb-10 md:m-0\">\n",
      "    \n",
      "    <span class=\"cf-icon-browser block md:hidden h-20 bg-center bg-no-repeat\"></span>\n",
      "    <span class=\"cf-icon-ok w-12 h-12 absolute left-1/2 md:left-auto md:right-0 md:top-0 -ml-6 -bottom-4\"></span>\n",
      "    \n",
      "  </div>\n",
      "  <span class=\"md:block w-full truncate\">You</span>\n",
      "  <h3 class=\"md:inline-block mt-3 md:mt-0 text-2xl text-gray-600 font-light leading-1.3\">\n",
      "    \n",
      "    Browser\n",
      "    \n",
      "  </h3>\n",
      "  <span class=\"leading-1.3 text-2xl text-green-success\">Working</span>\n",
      "</div>\n",
      "\n",
      "<div id=\"cf-cloudflare-status\" class=\" relative w-1/3 md:w-full py-15 md:p-0 md:py-8 md:text-left md:border-solid md:border-0 md:border-b md:border-gray-400 overflow-hidden float-left md:float-none text-center\">\n",
      "  <div class=\"relative mb-10 md:m-0\">\n",
      "    <a href=\"https://www.cloudflare.com/5xx-error-landing?utm_source=errorcode_524&utm_campaign=xiaoai.plus\" target=\"_blank\" rel=\"noopener noreferrer\">\n",
      "    <span class=\"cf-icon-cloud block md:hidden h-20 bg-center bg-no-repeat\"></span>\n",
      "    <span class=\"cf-icon-ok w-12 h-12 absolute left-1/2 md:left-auto md:right-0 md:top-0 -ml-6 -bottom-4\"></span>\n",
      "    </a>\n",
      "  </div>\n",
      "  <span class=\"md:block w-full truncate\">London</span>\n",
      "  <h3 class=\"md:inline-block mt-3 md:mt-0 text-2xl text-gray-600 font-light leading-1.3\">\n",
      "    <a href=\"https://www.cloudflare.com/5xx-error-landing?utm_source=errorcode_524&utm_campaign=xiaoai.plus\" target=\"_blank\" rel=\"noopener noreferrer\">\n",
      "    Cloudflare\n",
      "    </a>\n",
      "  </h3>\n",
      "  <span class=\"leading-1.3 text-2xl text-green-success\">Working</span>\n",
      "</div>\n",
      "\n",
      "<div id=\"cf-host-status\" class=\"cf-error-source relative w-1/3 md:w-full py-15 md:p-0 md:py-8 md:text-left md:border-solid md:border-0 md:border-b md:border-gray-400 overflow-hidden float-left md:float-none text-center\">\n",
      "  <div class=\"relative mb-10 md:m-0\">\n",
      "    \n",
      "    <span class=\"cf-icon-server block md:hidden h-20 bg-center bg-no-repeat\"></span>\n",
      "    <span class=\"cf-icon-error w-12 h-12 absolute left-1/2 md:left-auto md:right-0 md:top-0 -ml-6 -bottom-4\"></span>\n",
      "    \n",
      "  </div>\n",
      "  <span class=\"md:block w-full truncate\">xiaoai.plus</span>\n",
      "  <h3 class=\"md:inline-block mt-3 md:mt-0 text-2xl text-gray-600 font-light leading-1.3\">\n",
      "    \n",
      "    Host\n",
      "    \n",
      "  </h3>\n",
      "  <span class=\"leading-1.3 text-2xl text-red-error\">Error</span>\n",
      "</div>\n",
      "\n",
      "                </div>\n",
      "            </div>\n",
      "        </div>\n",
      "\n",
      "        <div class=\"w-240 lg:w-full mx-auto mb-8 lg:px-8\">\n",
      "            <div class=\"clearfix\">\n",
      "                <div class=\"w-1/2 md:w-full float-left pr-6 md:pb-10 md:pr-0 leading-relaxed\">\n",
      "                    <h2 class=\"text-3xl font-normal leading-1.3 mb-4\">What happened?</h2>\n",
      "                    <p>The origin web server timed out responding to this request.</p>\n",
      "                </div>\n",
      "                <div class=\"w-1/2 md:w-full float-left leading-relaxed\">\n",
      "                    <h2 class=\"text-3xl font-normal leading-1.3 mb-4\">What can I do?</h2>\n",
      "                          <h3 class=\"text-15 font-semibold mb-2\">If you're a visitor of this website:</h3>\n",
      "      <p class=\"mb-6\">Please try again in a few minutes.</p>\n",
      "\n",
      "      <h3 class=\"text-15 font-semibold mb-2\">If you're the owner of this website:</h3>\n",
      "      <p><span>The connection to the origin web server was made, but the origin web server timed out before responding. The likely cause is an overloaded background task, database or application, stressing the resources on your web server. To resolve, please work with your hosting provider or web development team to free up resources for your database or overloaded application.</span> <a rel=\"noopener noreferrer\" href=\"https://support.cloudflare.com/hc/en-us/articles/200171926-Error-524\">Additional troubleshooting information here.</a></p>\n",
      "                </div>\n",
      "            </div>\n",
      "        </div>\n",
      "\n",
      "        <div class=\"cf-error-footer cf-wrapper w-240 lg:w-full py-10 sm:py-4 sm:px-8 mx-auto text-center sm:text-left border-solid border-0 border-t border-gray-300\">\n",
      "  <p class=\"text-13\">\n",
      "    <span class=\"cf-footer-item sm:block sm:mb-1\">Cloudflare Ray ID: <strong class=\"font-semibold\">90348bf7dc64773d</strong></span>\n",
      "    <span class=\"cf-footer-separator sm:hidden\">&bull;</span>\n",
      "    <span id=\"cf-footer-item-ip\" class=\"cf-footer-item hidden sm:block sm:mb-1\">\n",
      "      Your IP:\n",
      "      <button type=\"button\" id=\"cf-footer-ip-reveal\" class=\"cf-footer-ip-reveal-btn\">Click to reveal</button>\n",
      "      <span class=\"hidden\" id=\"cf-footer-ip\">124.127.236.111</span>\n",
      "      <span class=\"cf-footer-separator sm:hidden\">&bull;</span>\n",
      "    </span>\n",
      "    <span class=\"cf-footer-item sm:block sm:mb-1\"><span>Performance &amp; security by</span> <a rel=\"noopener noreferrer\" href=\"https://www.cloudflare.com/5xx-error-landing?utm_source=errorcode_524&utm_campaign=xiaoai.plus\" id=\"brand_link\" target=\"_blank\">Cloudflare</a></span>\n",
      "    \n",
      "  </p>\n",
      "  <script>(function(){function d(){var b=a.getElementById(\"cf-footer-item-ip\"),c=a.getElementById(\"cf-footer-ip-reveal\");b&&\"classList\"in b&&(b.classList.remove(\"hidden\"),c.addEventListener(\"click\",function(){c.classList.add(\"hidden\");a.getElementById(\"cf-footer-ip\").classList.remove(\"hidden\")}))}var a=document;document.addEventListener&&a.addEventListener(\"DOMContentLoaded\",d)})();</script>\n",
      "</div><!-- /.error-footer -->\n",
      "\n",
      "\n",
      "    </div>\n",
      "</div>\n",
      "</body>\n",
      "</html>\n",
      "[LLM AST] => llm_ast/cfg_block/133.py.json\n"
     ]
    },
    {
     "name": "stderr",
     "output_type": "stream",
     "text": [
      "处理文件:  84%|████████▍ | 176/210 [06:07<02:28,  4.37s/it]"
     ]
    },
    {
     "name": "stdout",
     "output_type": "stream",
     "text": [
      "[TS AST] => static_ast/133.py.json\n",
      "[Processing done] ../../dataset/python/133.py\n"
     ]
    },
    {
     "name": "stderr",
     "output_type": "stream",
     "text": [
      "处理文件:  84%|████████▍ | 177/210 [06:10<02:18,  4.20s/it]"
     ]
    },
    {
     "name": "stdout",
     "output_type": "stream",
     "text": [
      "[LLM AST] => llm_ast/cfg_block/162.py.json\n",
      "[TS AST] => static_ast/162.py.json\n",
      "[Processing done] ../../dataset/python/162.py\n"
     ]
    },
    {
     "name": "stderr",
     "output_type": "stream",
     "text": [
      "处理文件:  85%|████████▍ | 178/210 [06:22<03:21,  6.30s/it]"
     ]
    },
    {
     "name": "stdout",
     "output_type": "stream",
     "text": [
      "[LLM AST] => llm_ast/cfg_block/171.py.json\n",
      "[TS AST] => static_ast/171.py.json\n",
      "[Processing done] ../../dataset/python/171.py\n"
     ]
    },
    {
     "name": "stderr",
     "output_type": "stream",
     "text": [
      "处理文件:  85%|████████▌ | 179/210 [06:33<04:06,  7.94s/it]"
     ]
    },
    {
     "name": "stdout",
     "output_type": "stream",
     "text": [
      "[LLM AST] => llm_ast/cfg_block/143.py.json\n",
      "[TS AST] => static_ast/143.py.json\n",
      "[Processing done] ../../dataset/python/143.py\n"
     ]
    },
    {
     "name": "stderr",
     "output_type": "stream",
     "text": [
      "处理文件:  86%|████████▌ | 180/210 [06:46<04:36,  9.22s/it]"
     ]
    },
    {
     "name": "stdout",
     "output_type": "stream",
     "text": [
      "[LLM AST] => llm_ast/cfg_block/54.py.json\n",
      "[TS AST] => static_ast/54.py.json\n",
      "[Processing done] ../../dataset/python/54.py\n"
     ]
    },
    {
     "name": "stderr",
     "output_type": "stream",
     "text": [
      "处理文件:  86%|████████▌ | 181/210 [06:54<04:21,  9.01s/it]"
     ]
    },
    {
     "name": "stdout",
     "output_type": "stream",
     "text": [
      "[LLM AST] => llm_ast/cfg_block/103.py.json\n",
      "[TS AST] => static_ast/103.py.json\n",
      "[Processing done] ../../dataset/python/103.py\n"
     ]
    },
    {
     "name": "stderr",
     "output_type": "stream",
     "text": [
      "处理文件:  87%|████████▋ | 182/210 [07:11<05:20, 11.46s/it]"
     ]
    },
    {
     "name": "stdout",
     "output_type": "stream",
     "text": [
      "[LLM AST] => llm_ast/cfg_block/158.py.json\n",
      "[TS AST] => static_ast/158.py.json\n",
      "[Processing done] ../../dataset/python/158.py\n"
     ]
    },
    {
     "name": "stderr",
     "output_type": "stream",
     "text": [
      "处理文件:  87%|████████▋ | 183/210 [07:14<03:57,  8.78s/it]"
     ]
    },
    {
     "name": "stdout",
     "output_type": "stream",
     "text": [
      "[LLM AST] => llm_ast/cfg_block/85.py.json\n",
      "[TS AST] => static_ast/85.py.json\n",
      "[Processing done] ../../dataset/python/85.py\n"
     ]
    },
    {
     "name": "stderr",
     "output_type": "stream",
     "text": [
      "处理文件:  88%|████████▊ | 184/210 [07:57<08:12, 18.93s/it]"
     ]
    },
    {
     "name": "stdout",
     "output_type": "stream",
     "text": [
      "[LLM AST] => llm_ast/cfg_block/53.py.json\n",
      "[TS AST] => static_ast/53.py.json\n",
      "[Processing done] ../../dataset/python/53.py\n"
     ]
    },
    {
     "name": "stderr",
     "output_type": "stream",
     "text": [
      "处理文件:  88%|████████▊ | 185/210 [08:02<06:09, 14.79s/it]"
     ]
    },
    {
     "name": "stdout",
     "output_type": "stream",
     "text": [
      "[LLM AST] => llm_ast/cfg_block/172.py.json\n",
      "[TS AST] => static_ast/172.py.json\n",
      "[Processing done] ../../dataset/python/172.py\n"
     ]
    },
    {
     "name": "stderr",
     "output_type": "stream",
     "text": [
      "处理文件:  89%|████████▊ | 186/210 [08:25<06:55, 17.31s/it]"
     ]
    },
    {
     "name": "stdout",
     "output_type": "stream",
     "text": [
      "[LLM AST] => llm_ast/cfg_block/188.py.json\n",
      "[TS AST] => static_ast/188.py.json\n",
      "[Processing done] ../../dataset/python/188.py\n"
     ]
    },
    {
     "name": "stderr",
     "output_type": "stream",
     "text": [
      "处理文件:  89%|████████▉ | 187/210 [08:57<08:16, 21.60s/it]"
     ]
    },
    {
     "name": "stdout",
     "output_type": "stream",
     "text": [
      "[LLM AST] => llm_ast/cfg_block/39.py.json\n",
      "[TS AST] => static_ast/39.py.json\n",
      "[Processing done] ../../dataset/python/39.py\n"
     ]
    },
    {
     "name": "stderr",
     "output_type": "stream",
     "text": [
      "处理文件:  90%|████████▉ | 188/210 [09:08<06:49, 18.63s/it]"
     ]
    },
    {
     "name": "stdout",
     "output_type": "stream",
     "text": [
      "[LLM AST] => llm_ast/cfg_block/7.py.json\n",
      "[TS AST] => static_ast/7.py.json\n",
      "[Processing done] ../../dataset/python/7.py\n"
     ]
    },
    {
     "name": "stderr",
     "output_type": "stream",
     "text": [
      "处理文件:  90%|█████████ | 189/210 [09:08<04:35, 13.11s/it]"
     ]
    },
    {
     "name": "stdout",
     "output_type": "stream",
     "text": [
      "[LLM AST] => llm_ast/cfg_block/30.py.json\n",
      "[TS AST] => static_ast/30.py.json\n",
      "[Processing done] ../../dataset/python/30.py\n",
      "[Error] llm_build_ast_from_tokens: Unterminated string starting at: line 795 column 15 (char 27754)\n"
     ]
    },
    {
     "name": "stderr",
     "output_type": "stream",
     "text": [
      "处理文件:  90%|█████████ | 190/210 [10:19<10:06, 30.34s/it]"
     ]
    },
    {
     "name": "stdout",
     "output_type": "stream",
     "text": [
      "[LLM AST] => llm_ast/cfg_block/60.py.json\n",
      "[TS AST] => static_ast/60.py.json\n",
      "[Processing done] ../../dataset/python/60.py\n"
     ]
    },
    {
     "name": "stderr",
     "output_type": "stream",
     "text": [
      "处理文件:  91%|█████████ | 191/210 [10:26<07:25, 23.44s/it]"
     ]
    },
    {
     "name": "stdout",
     "output_type": "stream",
     "text": [
      "[LLM AST] => llm_ast/cfg_block/45.py.json\n",
      "[TS AST] => static_ast/45.py.json\n",
      "[Processing done] ../../dataset/python/45.py\n",
      "[Error] llm_build_ast_from_tokens: Unterminated string starting at: line 793 column 35 (char 29858)\n"
     ]
    },
    {
     "name": "stderr",
     "output_type": "stream",
     "text": [
      "处理文件:  91%|█████████▏| 192/210 [11:01<08:02, 26.81s/it]"
     ]
    },
    {
     "name": "stdout",
     "output_type": "stream",
     "text": [
      "[LLM AST] => llm_ast/cfg_block/153.py.json\n",
      "[TS AST] => static_ast/153.py.json\n",
      "[Processing done] ../../dataset/python/153.py\n"
     ]
    },
    {
     "name": "stderr",
     "output_type": "stream",
     "text": [
      "处理文件:  92%|█████████▏| 193/210 [11:06<05:43, 20.20s/it]"
     ]
    },
    {
     "name": "stdout",
     "output_type": "stream",
     "text": [
      "[LLM AST] => llm_ast/cfg_block/123.py.json\n",
      "[TS AST] => static_ast/123.py.json\n",
      "[Processing done] ../../dataset/python/123.py\n",
      "[Error] llm_build_ast_from_tokens: <!DOCTYPE html>\n",
      "<!--[if lt IE 7]> <html class=\"no-js ie6 oldie\" lang=\"en-US\"> <![endif]-->\n",
      "<!--[if IE 7]>    <html class=\"no-js ie7 oldie\" lang=\"en-US\"> <![endif]-->\n",
      "<!--[if IE 8]>    <html class=\"no-js ie8 oldie\" lang=\"en-US\"> <![endif]-->\n",
      "<!--[if gt IE 8]><!--> <html class=\"no-js\" lang=\"en-US\"> <!--<![endif]-->\n",
      "<head>\n",
      "\n",
      "\n",
      "<title>xiaoai.plus | 524: A timeout occurred</title>\n",
      "<meta charset=\"UTF-8\" />\n",
      "<meta http-equiv=\"Content-Type\" content=\"text/html; charset=UTF-8\" />\n",
      "<meta http-equiv=\"X-UA-Compatible\" content=\"IE=Edge\" />\n",
      "<meta name=\"robots\" content=\"noindex, nofollow\" />\n",
      "<meta name=\"viewport\" content=\"width=device-width,initial-scale=1\" />\n",
      "<link rel=\"stylesheet\" id=\"cf_styles-css\" href=\"/cdn-cgi/styles/main.css\" />\n",
      "\n",
      "\n",
      "</head>\n",
      "<body>\n",
      "<div id=\"cf-wrapper\">\n",
      "    <div id=\"cf-error-details\" class=\"p-0\">\n",
      "        <header class=\"mx-auto pt-10 lg:pt-6 lg:px-8 w-240 lg:w-full mb-8\">\n",
      "            <h1 class=\"inline-block sm:block sm:mb-2 font-light text-60 lg:text-4xl text-black-dark leading-tight mr-2\">\n",
      "              <span class=\"inline-block\">A timeout occurred</span>\n",
      "              <span class=\"code-label\">Error code 524</span>\n",
      "            </h1>\n",
      "            <div>\n",
      "               Visit <a href=\"https://www.cloudflare.com/5xx-error-landing?utm_source=errorcode_524&utm_campaign=xiaoai.plus\" target=\"_blank\" rel=\"noopener noreferrer\">cloudflare.com</a> for more information.\n",
      "            </div>\n",
      "            <div class=\"mt-3\">2025-01-17 07:21:01 UTC</div>\n",
      "        </header>\n",
      "        <div class=\"my-8 bg-gradient-gray\">\n",
      "            <div class=\"w-240 lg:w-full mx-auto\">\n",
      "                <div class=\"clearfix md:px-8\">\n",
      "                  \n",
      "<div id=\"cf-browser-status\" class=\" relative w-1/3 md:w-full py-15 md:p-0 md:py-8 md:text-left md:border-solid md:border-0 md:border-b md:border-gray-400 overflow-hidden float-left md:float-none text-center\">\n",
      "  <div class=\"relative mb-10 md:m-0\">\n",
      "    \n",
      "    <span class=\"cf-icon-browser block md:hidden h-20 bg-center bg-no-repeat\"></span>\n",
      "    <span class=\"cf-icon-ok w-12 h-12 absolute left-1/2 md:left-auto md:right-0 md:top-0 -ml-6 -bottom-4\"></span>\n",
      "    \n",
      "  </div>\n",
      "  <span class=\"md:block w-full truncate\">You</span>\n",
      "  <h3 class=\"md:inline-block mt-3 md:mt-0 text-2xl text-gray-600 font-light leading-1.3\">\n",
      "    \n",
      "    Browser\n",
      "    \n",
      "  </h3>\n",
      "  <span class=\"leading-1.3 text-2xl text-green-success\">Working</span>\n",
      "</div>\n",
      "\n",
      "<div id=\"cf-cloudflare-status\" class=\" relative w-1/3 md:w-full py-15 md:p-0 md:py-8 md:text-left md:border-solid md:border-0 md:border-b md:border-gray-400 overflow-hidden float-left md:float-none text-center\">\n",
      "  <div class=\"relative mb-10 md:m-0\">\n",
      "    <a href=\"https://www.cloudflare.com/5xx-error-landing?utm_source=errorcode_524&utm_campaign=xiaoai.plus\" target=\"_blank\" rel=\"noopener noreferrer\">\n",
      "    <span class=\"cf-icon-cloud block md:hidden h-20 bg-center bg-no-repeat\"></span>\n",
      "    <span class=\"cf-icon-ok w-12 h-12 absolute left-1/2 md:left-auto md:right-0 md:top-0 -ml-6 -bottom-4\"></span>\n",
      "    </a>\n",
      "  </div>\n",
      "  <span class=\"md:block w-full truncate\">London</span>\n",
      "  <h3 class=\"md:inline-block mt-3 md:mt-0 text-2xl text-gray-600 font-light leading-1.3\">\n",
      "    <a href=\"https://www.cloudflare.com/5xx-error-landing?utm_source=errorcode_524&utm_campaign=xiaoai.plus\" target=\"_blank\" rel=\"noopener noreferrer\">\n",
      "    Cloudflare\n",
      "    </a>\n",
      "  </h3>\n",
      "  <span class=\"leading-1.3 text-2xl text-green-success\">Working</span>\n",
      "</div>\n",
      "\n",
      "<div id=\"cf-host-status\" class=\"cf-error-source relative w-1/3 md:w-full py-15 md:p-0 md:py-8 md:text-left md:border-solid md:border-0 md:border-b md:border-gray-400 overflow-hidden float-left md:float-none text-center\">\n",
      "  <div class=\"relative mb-10 md:m-0\">\n",
      "    \n",
      "    <span class=\"cf-icon-server block md:hidden h-20 bg-center bg-no-repeat\"></span>\n",
      "    <span class=\"cf-icon-error w-12 h-12 absolute left-1/2 md:left-auto md:right-0 md:top-0 -ml-6 -bottom-4\"></span>\n",
      "    \n",
      "  </div>\n",
      "  <span class=\"md:block w-full truncate\">xiaoai.plus</span>\n",
      "  <h3 class=\"md:inline-block mt-3 md:mt-0 text-2xl text-gray-600 font-light leading-1.3\">\n",
      "    \n",
      "    Host\n",
      "    \n",
      "  </h3>\n",
      "  <span class=\"leading-1.3 text-2xl text-red-error\">Error</span>\n",
      "</div>\n",
      "\n",
      "                </div>\n",
      "            </div>\n",
      "        </div>\n",
      "\n",
      "        <div class=\"w-240 lg:w-full mx-auto mb-8 lg:px-8\">\n",
      "            <div class=\"clearfix\">\n",
      "                <div class=\"w-1/2 md:w-full float-left pr-6 md:pb-10 md:pr-0 leading-relaxed\">\n",
      "                    <h2 class=\"text-3xl font-normal leading-1.3 mb-4\">What happened?</h2>\n",
      "                    <p>The origin web server timed out responding to this request.</p>\n",
      "                </div>\n",
      "                <div class=\"w-1/2 md:w-full float-left leading-relaxed\">\n",
      "                    <h2 class=\"text-3xl font-normal leading-1.3 mb-4\">What can I do?</h2>\n",
      "                          <h3 class=\"text-15 font-semibold mb-2\">If you're a visitor of this website:</h3>\n",
      "      <p class=\"mb-6\">Please try again in a few minutes.</p>\n",
      "\n",
      "      <h3 class=\"text-15 font-semibold mb-2\">If you're the owner of this website:</h3>\n",
      "      <p><span>The connection to the origin web server was made, but the origin web server timed out before responding. The likely cause is an overloaded background task, database or application, stressing the resources on your web server. To resolve, please work with your hosting provider or web development team to free up resources for your database or overloaded application.</span> <a rel=\"noopener noreferrer\" href=\"https://support.cloudflare.com/hc/en-us/articles/200171926-Error-524\">Additional troubleshooting information here.</a></p>\n",
      "                </div>\n",
      "            </div>\n",
      "        </div>\n",
      "\n",
      "        <div class=\"cf-error-footer cf-wrapper w-240 lg:w-full py-10 sm:py-4 sm:px-8 mx-auto text-center sm:text-left border-solid border-0 border-t border-gray-300\">\n",
      "  <p class=\"text-13\">\n",
      "    <span class=\"cf-footer-item sm:block sm:mb-1\">Cloudflare Ray ID: <strong class=\"font-semibold\">90349395fe426425</strong></span>\n",
      "    <span class=\"cf-footer-separator sm:hidden\">&bull;</span>\n",
      "    <span id=\"cf-footer-item-ip\" class=\"cf-footer-item hidden sm:block sm:mb-1\">\n",
      "      Your IP:\n",
      "      <button type=\"button\" id=\"cf-footer-ip-reveal\" class=\"cf-footer-ip-reveal-btn\">Click to reveal</button>\n",
      "      <span class=\"hidden\" id=\"cf-footer-ip\">124.127.236.111</span>\n",
      "      <span class=\"cf-footer-separator sm:hidden\">&bull;</span>\n",
      "    </span>\n",
      "    <span class=\"cf-footer-item sm:block sm:mb-1\"><span>Performance &amp; security by</span> <a rel=\"noopener noreferrer\" href=\"https://www.cloudflare.com/5xx-error-landing?utm_source=errorcode_524&utm_campaign=xiaoai.plus\" id=\"brand_link\" target=\"_blank\">Cloudflare</a></span>\n",
      "    \n",
      "  </p>\n",
      "  <script>(function(){function d(){var b=a.getElementById(\"cf-footer-item-ip\"),c=a.getElementById(\"cf-footer-ip-reveal\");b&&\"classList\"in b&&(b.classList.remove(\"hidden\"),c.addEventListener(\"click\",function(){c.classList.add(\"hidden\");a.getElementById(\"cf-footer-ip\").classList.remove(\"hidden\")}))}var a=document;document.addEventListener&&a.addEventListener(\"DOMContentLoaded\",d)})();</script>\n",
      "</div><!-- /.error-footer -->\n",
      "\n",
      "\n",
      "    </div>\n",
      "</div>\n",
      "</body>\n",
      "</html>\n",
      "[Error] llm_build_ast_from_tokens: <!DOCTYPE html>\n",
      "<!--[if lt IE 7]> <html class=\"no-js ie6 oldie\" lang=\"en-US\"> <![endif]-->\n",
      "<!--[if IE 7]>    <html class=\"no-js ie7 oldie\" lang=\"en-US\"> <![endif]-->\n",
      "<!--[if IE 8]>    <html class=\"no-js ie8 oldie\" lang=\"en-US\"> <![endif]-->\n",
      "<!--[if gt IE 8]><!--> <html class=\"no-js\" lang=\"en-US\"> <!--<![endif]-->\n",
      "<head>\n",
      "\n",
      "\n",
      "<title>xiaoai.plus | 524: A timeout occurred</title>\n",
      "<meta charset=\"UTF-8\" />\n",
      "<meta http-equiv=\"Content-Type\" content=\"text/html; charset=UTF-8\" />\n",
      "<meta http-equiv=\"X-UA-Compatible\" content=\"IE=Edge\" />\n",
      "<meta name=\"robots\" content=\"noindex, nofollow\" />\n",
      "<meta name=\"viewport\" content=\"width=device-width,initial-scale=1\" />\n",
      "<link rel=\"stylesheet\" id=\"cf_styles-css\" href=\"/cdn-cgi/styles/main.css\" />\n",
      "\n",
      "\n",
      "</head>\n",
      "<body>\n",
      "<div id=\"cf-wrapper\">\n",
      "    <div id=\"cf-error-details\" class=\"p-0\">\n",
      "        <header class=\"mx-auto pt-10 lg:pt-6 lg:px-8 w-240 lg:w-full mb-8\">\n",
      "            <h1 class=\"inline-block sm:block sm:mb-2 font-light text-60 lg:text-4xl text-black-dark leading-tight mr-2\">\n",
      "              <span class=\"inline-block\">A timeout occurred</span>\n",
      "              <span class=\"code-label\">Error code 524</span>\n",
      "            </h1>\n",
      "            <div>\n",
      "               Visit <a href=\"https://www.cloudflare.com/5xx-error-landing?utm_source=errorcode_524&utm_campaign=xiaoai.plus\" target=\"_blank\" rel=\"noopener noreferrer\">cloudflare.com</a> for more information.\n",
      "            </div>\n",
      "            <div class=\"mt-3\">2025-01-17 07:21:48 UTC</div>\n",
      "        </header>\n",
      "        <div class=\"my-8 bg-gradient-gray\">\n",
      "            <div class=\"w-240 lg:w-full mx-auto\">\n",
      "                <div class=\"clearfix md:px-8\">\n",
      "                  \n",
      "<div id=\"cf-browser-status\" class=\" relative w-1/3 md:w-full py-15 md:p-0 md:py-8 md:text-left md:border-solid md:border-0 md:border-b md:border-gray-400 overflow-hidden float-left md:float-none text-center\">\n",
      "  <div class=\"relative mb-10 md:m-0\">\n",
      "    \n",
      "    <span class=\"cf-icon-browser block md:hidden h-20 bg-center bg-no-repeat\"></span>\n",
      "    <span class=\"cf-icon-ok w-12 h-12 absolute left-1/2 md:left-auto md:right-0 md:top-0 -ml-6 -bottom-4\"></span>\n",
      "    \n",
      "  </div>\n",
      "  <span class=\"md:block w-full truncate\">You</span>\n",
      "  <h3 class=\"md:inline-block mt-3 md:mt-0 text-2xl text-gray-600 font-light leading-1.3\">\n",
      "    \n",
      "    Browser\n",
      "    \n",
      "  </h3>\n",
      "  <span class=\"leading-1.3 text-2xl text-green-success\">Working</span>\n",
      "</div>\n",
      "\n",
      "<div id=\"cf-cloudflare-status\" class=\" relative w-1/3 md:w-full py-15 md:p-0 md:py-8 md:text-left md:border-solid md:border-0 md:border-b md:border-gray-400 overflow-hidden float-left md:float-none text-center\">\n",
      "  <div class=\"relative mb-10 md:m-0\">\n",
      "    <a href=\"https://www.cloudflare.com/5xx-error-landing?utm_source=errorcode_524&utm_campaign=xiaoai.plus\" target=\"_blank\" rel=\"noopener noreferrer\">\n",
      "    <span class=\"cf-icon-cloud block md:hidden h-20 bg-center bg-no-repeat\"></span>\n",
      "    <span class=\"cf-icon-ok w-12 h-12 absolute left-1/2 md:left-auto md:right-0 md:top-0 -ml-6 -bottom-4\"></span>\n",
      "    </a>\n",
      "  </div>\n",
      "  <span class=\"md:block w-full truncate\">London</span>\n",
      "  <h3 class=\"md:inline-block mt-3 md:mt-0 text-2xl text-gray-600 font-light leading-1.3\">\n",
      "    <a href=\"https://www.cloudflare.com/5xx-error-landing?utm_source=errorcode_524&utm_campaign=xiaoai.plus\" target=\"_blank\" rel=\"noopener noreferrer\">\n",
      "    Cloudflare\n",
      "    </a>\n",
      "  </h3>\n",
      "  <span class=\"leading-1.3 text-2xl text-green-success\">Working</span>\n",
      "</div>\n",
      "\n",
      "<div id=\"cf-host-status\" class=\"cf-error-source relative w-1/3 md:w-full py-15 md:p-0 md:py-8 md:text-left md:border-solid md:border-0 md:border-b md:border-gray-400 overflow-hidden float-left md:float-none text-center\">\n",
      "  <div class=\"relative mb-10 md:m-0\">\n",
      "    \n",
      "    <span class=\"cf-icon-server block md:hidden h-20 bg-center bg-no-repeat\"></span>\n",
      "    <span class=\"cf-icon-error w-12 h-12 absolute left-1/2 md:left-auto md:right-0 md:top-0 -ml-6 -bottom-4\"></span>\n",
      "    \n",
      "  </div>\n",
      "  <span class=\"md:block w-full truncate\">xiaoai.plus</span>\n",
      "  <h3 class=\"md:inline-block mt-3 md:mt-0 text-2xl text-gray-600 font-light leading-1.3\">\n",
      "    \n",
      "    Host\n",
      "    \n",
      "  </h3>\n",
      "  <span class=\"leading-1.3 text-2xl text-red-error\">Error</span>\n",
      "</div>\n",
      "\n",
      "                </div>\n",
      "            </div>\n",
      "        </div>\n",
      "\n",
      "        <div class=\"w-240 lg:w-full mx-auto mb-8 lg:px-8\">\n",
      "            <div class=\"clearfix\">\n",
      "                <div class=\"w-1/2 md:w-full float-left pr-6 md:pb-10 md:pr-0 leading-relaxed\">\n",
      "                    <h2 class=\"text-3xl font-normal leading-1.3 mb-4\">What happened?</h2>\n",
      "                    <p>The origin web server timed out responding to this request.</p>\n",
      "                </div>\n",
      "                <div class=\"w-1/2 md:w-full float-left leading-relaxed\">\n",
      "                    <h2 class=\"text-3xl font-normal leading-1.3 mb-4\">What can I do?</h2>\n",
      "                          <h3 class=\"text-15 font-semibold mb-2\">If you're a visitor of this website:</h3>\n",
      "      <p class=\"mb-6\">Please try again in a few minutes.</p>\n",
      "\n",
      "      <h3 class=\"text-15 font-semibold mb-2\">If you're the owner of this website:</h3>\n",
      "      <p><span>The connection to the origin web server was made, but the origin web server timed out before responding. The likely cause is an overloaded background task, database or application, stressing the resources on your web server. To resolve, please work with your hosting provider or web development team to free up resources for your database or overloaded application.</span> <a rel=\"noopener noreferrer\" href=\"https://support.cloudflare.com/hc/en-us/articles/200171926-Error-524\">Additional troubleshooting information here.</a></p>\n",
      "                </div>\n",
      "            </div>\n",
      "        </div>\n",
      "\n",
      "        <div class=\"cf-error-footer cf-wrapper w-240 lg:w-full py-10 sm:py-4 sm:px-8 mx-auto text-center sm:text-left border-solid border-0 border-t border-gray-300\">\n",
      "  <p class=\"text-13\">\n",
      "    <span class=\"cf-footer-item sm:block sm:mb-1\">Cloudflare Ray ID: <strong class=\"font-semibold\">903494bbadad7732</strong></span>\n",
      "    <span class=\"cf-footer-separator sm:hidden\">&bull;</span>\n",
      "    <span id=\"cf-footer-item-ip\" class=\"cf-footer-item hidden sm:block sm:mb-1\">\n",
      "      Your IP:\n",
      "      <button type=\"button\" id=\"cf-footer-ip-reveal\" class=\"cf-footer-ip-reveal-btn\">Click to reveal</button>\n",
      "      <span class=\"hidden\" id=\"cf-footer-ip\">124.127.236.111</span>\n",
      "      <span class=\"cf-footer-separator sm:hidden\">&bull;</span>\n",
      "    </span>\n",
      "    <span class=\"cf-footer-item sm:block sm:mb-1\"><span>Performance &amp; security by</span> <a rel=\"noopener noreferrer\" href=\"https://www.cloudflare.com/5xx-error-landing?utm_source=errorcode_524&utm_campaign=xiaoai.plus\" id=\"brand_link\" target=\"_blank\">Cloudflare</a></span>\n",
      "    \n",
      "  </p>\n",
      "  <script>(function(){function d(){var b=a.getElementById(\"cf-footer-item-ip\"),c=a.getElementById(\"cf-footer-ip-reveal\");b&&\"classList\"in b&&(b.classList.remove(\"hidden\"),c.addEventListener(\"click\",function(){c.classList.add(\"hidden\");a.getElementById(\"cf-footer-ip\").classList.remove(\"hidden\")}))}var a=document;document.addEventListener&&a.addEventListener(\"DOMContentLoaded\",d)})();</script>\n",
      "</div><!-- /.error-footer -->\n",
      "\n",
      "\n",
      "    </div>\n",
      "</div>\n",
      "</body>\n",
      "</html>\n"
     ]
    },
    {
     "name": "stderr",
     "output_type": "stream",
     "text": [
      "处理文件:  92%|█████████▏| 194/210 [13:18<14:21, 53.87s/it]"
     ]
    },
    {
     "name": "stdout",
     "output_type": "stream",
     "text": [
      "[LLM AST] => llm_ast/cfg_block/70.py.json\n",
      "[TS AST] => static_ast/70.py.json\n",
      "[Processing done] ../../dataset/python/70.py\n"
     ]
    },
    {
     "name": "stderr",
     "output_type": "stream",
     "text": [
      "处理文件:  93%|█████████▎| 195/210 [14:00<12:34, 50.30s/it]"
     ]
    },
    {
     "name": "stdout",
     "output_type": "stream",
     "text": [
      "[LLM AST] => llm_ast/cfg_block/122.py.json\n",
      "[TS AST] => static_ast/122.py.json\n",
      "[Processing done] ../../dataset/python/122.py\n"
     ]
    },
    {
     "name": "stderr",
     "output_type": "stream",
     "text": [
      "处理文件:  93%|█████████▎| 196/210 [14:02<08:21, 35.80s/it]"
     ]
    },
    {
     "name": "stdout",
     "output_type": "stream",
     "text": [
      "[LLM AST] => llm_ast/cfg_block/69.py.json\n",
      "[TS AST] => static_ast/69.py.json\n",
      "[Processing done] ../../dataset/python/69.py\n"
     ]
    },
    {
     "name": "stderr",
     "output_type": "stream",
     "text": [
      "处理文件:  94%|█████████▍| 197/210 [15:08<09:42, 44.82s/it]"
     ]
    },
    {
     "name": "stdout",
     "output_type": "stream",
     "text": [
      "[LLM AST] => llm_ast/cfg_block/98.py.json\n",
      "[TS AST] => static_ast/98.py.json\n",
      "[Processing done] ../../dataset/python/98.py\n"
     ]
    },
    {
     "name": "stderr",
     "output_type": "stream",
     "text": [
      "处理文件:  94%|█████████▍| 198/210 [15:20<06:58, 34.84s/it]"
     ]
    },
    {
     "name": "stdout",
     "output_type": "stream",
     "text": [
      "[LLM AST] => llm_ast/cfg_block/146.py.json\n",
      "[TS AST] => static_ast/146.py.json\n",
      "[Processing done] ../../dataset/python/146.py\n"
     ]
    },
    {
     "name": "stderr",
     "output_type": "stream",
     "text": [
      "处理文件:  95%|█████████▍| 199/210 [17:08<10:27, 57.05s/it]"
     ]
    },
    {
     "name": "stdout",
     "output_type": "stream",
     "text": [
      "[LLM AST] => llm_ast/cfg_block/120.py.json\n",
      "[TS AST] => static_ast/120.py.json\n",
      "[Processing done] ../../dataset/python/120.py\n"
     ]
    },
    {
     "name": "stderr",
     "output_type": "stream",
     "text": [
      "处理文件:  95%|█████████▌| 200/210 [18:27<10:33, 63.37s/it]"
     ]
    },
    {
     "name": "stdout",
     "output_type": "stream",
     "text": [
      "[LLM AST] => llm_ast/cfg_block/141.py.json\n",
      "[TS AST] => static_ast/141.py.json\n",
      "[Processing done] ../../dataset/python/141.py\n"
     ]
    },
    {
     "name": "stderr",
     "output_type": "stream",
     "text": [
      "处理文件:  96%|█████████▌| 201/210 [19:23<09:12, 61.37s/it]"
     ]
    },
    {
     "name": "stdout",
     "output_type": "stream",
     "text": [
      "[LLM AST] => llm_ast/cfg_block/104.py.json\n",
      "[TS AST] => static_ast/104.py.json\n",
      "[Processing done] ../../dataset/python/104.py\n"
     ]
    },
    {
     "name": "stderr",
     "output_type": "stream",
     "text": [
      "处理文件:  96%|█████████▌| 202/210 [20:56<09:27, 70.91s/it]"
     ]
    },
    {
     "name": "stdout",
     "output_type": "stream",
     "text": [
      "[LLM AST] => llm_ast/cfg_block/12.py.json\n",
      "[TS AST] => static_ast/12.py.json\n",
      "[Processing done] ../../dataset/python/12.py\n"
     ]
    },
    {
     "name": "stderr",
     "output_type": "stream",
     "text": [
      "处理文件:  97%|█████████▋| 203/210 [21:41<07:20, 62.97s/it]"
     ]
    },
    {
     "name": "stdout",
     "output_type": "stream",
     "text": [
      "[LLM AST] => llm_ast/cfg_block/22.py.json\n",
      "[TS AST] => static_ast/22.py.json\n",
      "[Processing done] ../../dataset/python/22.py\n"
     ]
    },
    {
     "name": "stderr",
     "output_type": "stream",
     "text": [
      "处理文件:  97%|█████████▋| 204/210 [22:02<05:03, 50.50s/it]"
     ]
    },
    {
     "name": "stdout",
     "output_type": "stream",
     "text": [
      "[LLM AST] => llm_ast/cfg_block/166.py.json\n",
      "[TS AST] => static_ast/166.py.json\n",
      "[Processing done] ../../dataset/python/166.py\n"
     ]
    },
    {
     "name": "stderr",
     "output_type": "stream",
     "text": [
      "处理文件:  98%|█████████▊| 205/210 [22:13<03:12, 38.56s/it]"
     ]
    },
    {
     "name": "stdout",
     "output_type": "stream",
     "text": [
      "[LLM AST] => llm_ast/cfg_block/21.py.json\n",
      "[TS AST] => static_ast/21.py.json\n",
      "[Processing done] ../../dataset/python/21.py\n"
     ]
    },
    {
     "name": "stderr",
     "output_type": "stream",
     "text": [
      "处理文件:  98%|█████████▊| 206/210 [24:45<04:50, 72.53s/it]"
     ]
    },
    {
     "name": "stdout",
     "output_type": "stream",
     "text": [
      "[LLM AST] => llm_ast/cfg_block/151.py.json\n",
      "[TS AST] => static_ast/151.py.json\n",
      "[Processing done] ../../dataset/python/151.py\n"
     ]
    },
    {
     "name": "stderr",
     "output_type": "stream",
     "text": [
      "处理文件:  99%|█████████▊| 207/210 [24:47<02:33, 51.33s/it]"
     ]
    },
    {
     "name": "stdout",
     "output_type": "stream",
     "text": [
      "[LLM AST] => llm_ast/cfg_block/4.py.json\n",
      "[TS AST] => static_ast/4.py.json\n",
      "[Processing done] ../../dataset/python/4.py\n",
      "[LLM AST] => llm_ast/cfg_block/32.py.json\n"
     ]
    },
    {
     "name": "stderr",
     "output_type": "stream",
     "text": [
      "处理文件:  99%|█████████▉| 208/210 [25:55<01:53, 56.52s/it]"
     ]
    },
    {
     "name": "stdout",
     "output_type": "stream",
     "text": [
      "[TS AST] => static_ast/32.py.json\n",
      "[Processing done] ../../dataset/python/32.py\n",
      "[LLM AST] => llm_ast/cfg_block/186.py.json\n"
     ]
    },
    {
     "name": "stderr",
     "output_type": "stream",
     "text": [
      "处理文件: 100%|█████████▉| 209/210 [28:39<01:28, 88.70s/it]"
     ]
    },
    {
     "name": "stdout",
     "output_type": "stream",
     "text": [
      "[TS AST] => static_ast/186.py.json\n",
      "[Processing done] ../../dataset/python/186.py\n"
     ]
    },
    {
     "name": "stderr",
     "output_type": "stream",
     "text": [
      "处理文件: 100%|██████████| 210/210 [29:39<00:00,  8.47s/it]"
     ]
    },
    {
     "name": "stdout",
     "output_type": "stream",
     "text": [
      "[LLM AST] => llm_ast/cfg_block/38.py.json\n",
      "[TS AST] => static_ast/38.py.json\n",
      "[Processing done] ../../dataset/python/38.py\n"
     ]
    },
    {
     "name": "stderr",
     "output_type": "stream",
     "text": [
      "\n"
     ]
    }
   ],
   "source": [
    "\"\"\"\n",
    "Multi-threaded script where we separately:\n",
    "1) Generate an LLM-based AST (two-step approach: CFG + partial block parse),\n",
    "2) Generate a tree-sitter-based static AST,\n",
    "3) Compare snippet-level labels,\n",
    "4) Save both ASTs as JSON.\n",
    "\n",
    "We split logic into:\n",
    "- parse_cfg_structure(): returns a high-level \"CFG\" with classes/functions line ranges\n",
    "- build_ast_from_cfg(): recursively builds an AST by ignoring function/class lines in the parent block,\n",
    "  and placing a placeholder for function/class (which we then parse by recursion).\n",
    "- process_single_file(): calls above, also gets tree-sitter AST, compares, and saves.\n",
    "Finally main() uses ThreadPoolExecutor to process multiple files in parallel.\n",
    "\"\"\"\n",
    "\n",
    "import os\n",
    "import sys\n",
    "import json\n",
    "from typing import Any, Dict, List, Tuple\n",
    "import concurrent.futures\n",
    "from multiprocessing import cpu_count\n",
    "\n",
    "from tqdm import tqdm\n",
    "\n",
    "# LLM interface\n",
    "from llm import get_llm_answers  # <-- you need a get_llm_answers(prompt, require_json, temperature, model_name, ...) function\n",
    "\n",
    "# py-tree-sitter\n",
    "import tree_sitter_python as tspython\n",
    "from tree_sitter import Language, Parser\n",
    "\n",
    "###############################################################################\n",
    "#                          Tree-sitter initialization                         #\n",
    "###############################################################################\n",
    "# 假设 tree_sitter_python.language() 可以返回 .so 或 .dylib 路径\n",
    "PY_LANGUAGE = Language(tspython.language())\n",
    "parser = Parser(PY_LANGUAGE)\n",
    "\n",
    "###############################################################################\n",
    "#                       Tokenization & Utility Functions                      #\n",
    "###############################################################################\n",
    "import re\n",
    "\n",
    "def tokenize_code(code: str) -> List[Tuple[int, int, str]]:\n",
    "    \"\"\"\n",
    "    使用正则分词，直接在原始代码上通过 re.finditer() 获取匹配位置，\n",
    "    并保留换行符，让 LLM 能识别多行结构。\n",
    "    \"\"\"\n",
    "    token_pattern = (\n",
    "        r'[A-Za-z_]\\w*|'  # 标识符\n",
    "        r'[0-9]+|'        # 数字\n",
    "        r'\"[^\"]*\"|'       # 双引号字符串\n",
    "        r\"'[^']*'|\"       # 单引号字符串\n",
    "        r'\\\\[ntr]|'       # 转义符 \\n \\t \\r\n",
    "        r'//.*|'          # 单行注释 (如 C++/Java/JS 风格)\n",
    "        r'/\\*.*?\\*/|'     # 多行注释 (如 C 风格) - 可选\n",
    "        r'\\n|\\r|\\t|'      # 处理原生换行/回车/制表符\n",
    "        r'\\S'             # 其他符号(如 +, -, {, }, 以及非空白字符)\n",
    "    )\n",
    "\n",
    "    tokens_with_offset = []\n",
    "    for match in re.finditer(token_pattern, code, re.MULTILINE | re.DOTALL):\n",
    "        tk = match.group(0)\n",
    "        start_offset, end_offset = match.span()\n",
    "        tokens_with_offset.append((start_offset, end_offset, tk))\n",
    "\n",
    "    return tokens_with_offset\n",
    "\n",
    "def rebuild_label_llm(\n",
    "    code: str,\n",
    "    indexed_tokens: List[Tuple[int, int, str]],\n",
    "    start_token: int,\n",
    "    end_token: int\n",
    ") -> str:\n",
    "    \"\"\"\n",
    "    根据 start_token / end_token 在 indexed_tokens 中查找首尾字符偏移，\n",
    "    然后从源码中截取原始片段（保留换行）。\n",
    "    \"\"\"\n",
    "    if (\n",
    "        start_token < 0 or end_token < 0\n",
    "        or start_token >= len(indexed_tokens)\n",
    "        or end_token >= len(indexed_tokens)\n",
    "        or end_token < start_token\n",
    "    ):\n",
    "        return \"\"\n",
    "    start_offset = indexed_tokens[start_token][0]\n",
    "    end_offset = indexed_tokens[end_token][1]\n",
    "    if start_offset < 0 or end_offset > len(code):\n",
    "        return \"\"\n",
    "    snippet = code[start_offset:end_offset]\n",
    "    return snippet\n",
    "\n",
    "def collect_llm_labels(node: Dict[str, Any], code: str, indexed_tokens: List[Tuple[int,int,str]]) -> None:\n",
    "    \"\"\"\n",
    "    递归给 LLM AST 中每个节点设置 node[\"label\"] = 源码片段。\n",
    "    \"\"\"\n",
    "    st = node.get(\"start_token\", -1)\n",
    "    et = node.get(\"end_token\", -1)\n",
    "    snippet = rebuild_label_llm(code, indexed_tokens, st, et)\n",
    "    node[\"label\"] = snippet\n",
    "\n",
    "    for child in node.get(\"children\", []):\n",
    "        collect_llm_labels(child, code, indexed_tokens)\n",
    "\n",
    "###############################################################################\n",
    "#                         Compare: snippet-level text                         #\n",
    "###############################################################################\n",
    "def compare_ast_nodes(node1: Dict[str, Any], node2: Dict[str, Any], path: str = \"\"):\n",
    "    \"\"\"\n",
    "    Compare node[\"label\"] text, plus child count, recursively.\n",
    "    \"\"\"\n",
    "    if not node1 or not node2:\n",
    "        return\n",
    "\n",
    "    label1 = (node1.get(\"label\", \"\") or \"\").strip()\n",
    "    label2 = (node2.get(\"label\", \"\") or \"\").strip()\n",
    "    if label1 != label2:\n",
    "        print(f\"[Diff] label mismatch at {path}:\")\n",
    "        print(f\"  1: {repr(label1)}\")\n",
    "        print(f\"  2: {repr(label2)}\")\n",
    "\n",
    "    c1 = node1.get(\"children\", [])\n",
    "    c2 = node2.get(\"children\", [])\n",
    "    if len(c1) != len(c2):\n",
    "        print(f\"[Diff] Child count mismatch at {path}: {len(c1)} vs {len(c2)}\")\n",
    "\n",
    "    for i in range(min(len(c1), len(c2))):\n",
    "        compare_ast_nodes(c1[i], c2[i], path + f\".children[{i}]\")\n",
    "\n",
    "###############################################################################\n",
    "#               Step A: get CFG structure (class/function line range)         #\n",
    "###############################################################################\n",
    "def get_structure_prompt(code_text: str, language: str=\"python\") -> str:\n",
    "    \"\"\"\n",
    "    构造 prompt, 让 LLM 返回:\n",
    "    {\n",
    "      \"name\": \"example_script\",\n",
    "      \"type\": \"CFG\",\n",
    "      \"start_line\": 1,\n",
    "      \"end_line\": N,\n",
    "      \"functions\": [...],\n",
    "      \"classes\": [...]\n",
    "    }\n",
    "    \"\"\"\n",
    "    lines = code_text.splitlines()\n",
    "    lines_json = [{\"line\": i+1, \"code\": line} for i,line in enumerate(lines)]\n",
    "\n",
    "    prompt = f\"\"\"\n",
    "You are given a piece of {language} code.\n",
    "Your task: find all the nested classes and methods in the code,\n",
    "including their exact start_line and end_line.\n",
    "\n",
    "Return a JSON with this structure:\n",
    "\n",
    "{{\n",
    "  \"name\": \"example_script\",\n",
    "  \"type\": \"CFG\",\n",
    "  \"start_line\": 1,\n",
    "  \"end_line\": {len(lines)},\n",
    "  \"functions\": [\n",
    "    {{\n",
    "      \"name\": \"function_name\",\n",
    "      \"type\": \"function\",\n",
    "      \"start_line\": 10,\n",
    "      \"end_line\": 20,\n",
    "      \"functions\": [],\n",
    "      \"classes\": []\n",
    "    }}\n",
    "  ],\n",
    "  \"classes\": [\n",
    "    {{\n",
    "      \"name\": \"class_name\",\n",
    "      \"type\": \"class\",\n",
    "      \"start_line\": 30,\n",
    "      \"end_line\": 50,\n",
    "      \"functions\": [\n",
    "        {{\n",
    "          \"name\": \"method_name\",\n",
    "          \"type\": \"function\",\n",
    "          \"start_line\": 35,\n",
    "          \"end_line\": 40,\n",
    "          \"functions\": [],\n",
    "          \"classes\": []\n",
    "        }}\n",
    "      ],\n",
    "      \"classes\": []\n",
    "    }}\n",
    "  ]\n",
    "}}\n",
    "\n",
    "IMPORTANT:\n",
    "1) If a function is nested in a class, put it in the class's \"functions\".\n",
    "2) If a class is nested in another class, put it in \"classes\".\n",
    "3) start_line/end_line must reflect the actual lines in the original code (1-based).\n",
    "4) Do not omit or reorder fields. Use the exact structure above.\n",
    "\n",
    "Here are the code lines:\n",
    "{json.dumps(lines_json, indent=2)}\n",
    "\n",
    "Return only valid JSON.\n",
    "\"\"\"\n",
    "    return prompt\n",
    "\n",
    "def parse_cfg_structure(code_text: str, language=\"python\") -> Dict[str,Any]:\n",
    "    \"\"\"\n",
    "    调用 LLM, 获取 CFG JSON 结构\n",
    "    \"\"\"\n",
    "    prompt = get_structure_prompt(code_text, language)\n",
    "    try:\n",
    "        raw_output = get_llm_answers(prompt, require_json=True, temperature=0, model_name=\"gpt-4o\")\n",
    "        return json.loads(raw_output)\n",
    "    except Exception as e:\n",
    "        print(f\"[Error] parse_cfg_structure: {e}\")\n",
    "        # fallback\n",
    "        return {\n",
    "          \"name\": \"fallback\",\n",
    "          \"type\": \"CFG\",\n",
    "          \"start_line\": 1,\n",
    "          \"end_line\": len(code_text.splitlines()),\n",
    "          \"functions\": [],\n",
    "          \"classes\": []\n",
    "        }\n",
    "\n",
    "###############################################################################\n",
    "#        Step B1: LLM-based AST for a snippet (tokens -> AST from LLM)        #\n",
    "###############################################################################\n",
    "def llm_build_ast_from_tokens(tokens_with_offset: List[Tuple[int, int, str]], top_level=True) -> Dict[str, Any]:\n",
    "    \"\"\"\n",
    "    给定 tokens列表 => 调用 LLM => 生成 JSON AST.\n",
    "    - top_level: 是否最外层(只有最外层允许 'module'), 否则用 'block' 等\n",
    "    \"\"\"\n",
    "    indexed_tokens = [(i, t[2]) for i, t in enumerate(tokens_with_offset)]\n",
    "    token_info = \"\\n\".join(f\"{i}: {text}\" for (i, text) in indexed_tokens)\n",
    "\n",
    "    # 构造 prompt\n",
    "    allowed_types = [\n",
    "        \"aliased_import\", \"argument_list\", \"as_pattern\", \"as_pattern_target\", \"assert_statement\",\n",
    "        \"assignment\", \"attribute\", \"augmented_assignment\", \"await\", \"binary_operator\", \"block\",\n",
    "        \"boolean_operator\", \"break_statement\", \"call\", \"class_definition\", \"comment\",\n",
    "        \"comparison_operator\", \"concatenated_string\", \"conditional_expression\",\n",
    "        \"continue_statement\", \"decorated_definition\", \"decorator\", \"default_parameter\",\n",
    "        \"delete_statement\", \"dictionary\", \"dictionary_comprehension\", \"dictionary_splat\",\n",
    "        \"dictionary_splat_pattern\", \"dotted_name\", \"elif_clause\", \"ellipsis\", \"else_clause\",\n",
    "        \"escape_interpolation\", \"escape_sequence\", \"except_clause\", \"expression_list\",\n",
    "        \"expression_statement\", \"false\", \"finally_clause\", \"float\", \"for_in_clause\", \"for_statement\",\n",
    "        \"format_specifier\", \"function_definition\", \"future_import_statement\",\n",
    "        \"generator_expression\", \"generic_type\", \"global_statement\", \"identifier\", \"if_clause\",\n",
    "        \"if_statement\", \"import_from_statement\", \"import_prefix\", \"import_statement\", \"integer\",\n",
    "        \"interpolation\", \"keyword_argument\", \"keyword_separator\", \"lambda\", \"lambda_parameters\",\n",
    "        \"line_continuation\", \"list\", \"list_comprehension\", \"list_splat\", \"list_splat_pattern\",\n",
    "        \"module\", \"named_expression\", \"none\", \"nonlocal_statement\", \"not_operator\", \"pair\",\n",
    "        \"parameters\", \"parenthesized_expression\", \"pass_statement\", \"pattern_list\", \"raise_statement\",\n",
    "        \"relative_import\", \"return_statement\", \"set\", \"set_comprehension\", \"slice\", \"string\",\n",
    "        \"string_content\", \"string_end\", \"string_start\", \"subscript\", \"true\", \"try_statement\",\n",
    "        \"tuple\", \"tuple_pattern\", \"type\", \"type_parameter\", \"typed_default_parameter\", \"typed_parameter\",\n",
    "        \"unary_operator\", \"union_type\", \"while_statement\", \"with_clause\", \"with_item\", \"with_statement\",\n",
    "        \"yield\"\n",
    "    ]\n",
    "    allowed_types_str = \", \".join(allowed_types)\n",
    "\n",
    "    top_level_instruction = \"Exactly one 'module' node can appear at the root. Use 'block' if nested.\\n\"\n",
    "\n",
    "    prompt = (\n",
    "        \"Below is a list of tokens (index -> token_string) for a code snippet:\\n\"\n",
    "        f\"{token_info}\\n\\n\"\n",
    "        \"Create a JSON-based AST with these fields:\\n\"\n",
    "        f\"- 'type': must be in {{{allowed_types_str}}}\\n\"\n",
    "        \"- 'start_token', 'end_token'\\n\"\n",
    "        \"- 'children' (array)\\n\\n\"\n",
    "        \"Leaf nodes => start_token == end_token.\\n\"\n",
    "        \"No overlapping sibling token ranges.\\n\"\n",
    "        \"Return valid JSON only.\\n\"\n",
    "    )\n",
    "    if top_level:\n",
    "        prompt += \"\\nAt the root, use 'module'. Do not nest multiple 'module'.\\n\" + top_level_instruction\n",
    "    else:\n",
    "        prompt += \"\\nInside blocks, do not produce 'module'. Use 'block' or suitable type.\\n\" + top_level_instruction\n",
    "\n",
    "    try:\n",
    "        llm_output = get_llm_answers(\n",
    "            prompt,\n",
    "            model_name=\"gpt-4o\",\n",
    "            require_json=True,\n",
    "            temperature=0\n",
    "        )\n",
    "        ast_dict = json.loads(llm_output)\n",
    "        return ast_dict\n",
    "\n",
    "    except Exception as e:\n",
    "        print(f\"[Error] llm_build_ast_from_tokens: {e}\")\n",
    "        return {\n",
    "            \"type\": \"ErrorNode\",\n",
    "            \"start_token\": -1,\n",
    "            \"end_token\": -1,\n",
    "            \"children\": []\n",
    "        }\n",
    "\n",
    "###############################################################################\n",
    "#        Step B2: 生成sub-AST，排除子function/class行，避免重复解析            #\n",
    "###############################################################################\n",
    "def generate_partial_block_ast(\n",
    "    block_code: str,\n",
    "    excluded_ranges: List[Tuple[int,int]]\n",
    ") -> Dict[str,Any]:\n",
    "    \"\"\"\n",
    "    给定一个 block 的代码(多行)，同时给出在该 block 中\n",
    "    某些行段要排除(因为它们是 class/function 体，另行解析)。\n",
    "    我们在 block 中把这些行段替换成空行(或注释)，只解析剩余普通语句。\n",
    "    \"\"\"\n",
    "    lines = block_code.splitlines(True)  # 保留换行\n",
    "    # 假定excluded_ranges已基于\"block_code\"的局部行号\n",
    "    for (start_l, end_l) in excluded_ranges:\n",
    "        # 修正边界\n",
    "        if start_l < 0: start_l = 0\n",
    "        if end_l > len(lines): end_l = len(lines)\n",
    "        for i in range(start_l, end_l):\n",
    "            lines[i] = \"\"  # 变成空行\n",
    "\n",
    "    partial_code = \"\".join(lines)\n",
    "    tokens = tokenize_code(partial_code)\n",
    "    ast_dict = llm_build_ast_from_tokens(tokens, top_level=False)\n",
    "    # collect label\n",
    "    all_tokens = tokenize_code(partial_code)\n",
    "    collect_llm_labels(ast_dict, partial_code, all_tokens)\n",
    "    return ast_dict\n",
    "\n",
    "def build_ast_from_cfg(cfg_node: Dict[str,Any], code_lines: List[str]) -> Dict[str,Any]:\n",
    "    \"\"\"\n",
    "    递归地构建 AST:\n",
    "      1) 先解析当前块 [start_line..end_line] => 但排除 functions/classes 行段\n",
    "      2) 生成 \"父块AST\"\n",
    "      3) 对子function/class 递归 => 并把它们当作一个占位节点插入\n",
    "    \"\"\"\n",
    "    # block行区间\n",
    "    start_line = cfg_node.get(\"start_line\", 1)\n",
    "    end_line = cfg_node.get(\"end_line\", len(code_lines))\n",
    "\n",
    "    # 提取该块的代码\n",
    "    block_slice = code_lines[start_line-1 : end_line]\n",
    "    block_code = \"\".join(block_slice)\n",
    "\n",
    "    # 找出子function/class行段\n",
    "    # \"excluded_ranges\" 在当前block内的相对行号\n",
    "    excluded = []\n",
    "    for fn_item in cfg_node.get(\"functions\", []):\n",
    "        rstart = fn_item[\"start_line\"] - start_line\n",
    "        rend = fn_item[\"end_line\"] - start_line + 1\n",
    "        excluded.append((rstart, rend))\n",
    "    for cl_item in cfg_node.get(\"classes\", []):\n",
    "        rstart = cl_item[\"start_line\"] - start_line\n",
    "        rend = cl_item[\"end_line\"] - start_line + 1\n",
    "        excluded.append((rstart, rend))\n",
    "\n",
    "    # 1) 父块AST(只解析普通语句)\n",
    "    block_ast = generate_partial_block_ast(block_code, excluded)\n",
    "\n",
    "    if \"children\" not in block_ast:\n",
    "        block_ast[\"children\"] = []\n",
    "\n",
    "    # 2) 递归构造子function\n",
    "    for fn_item in cfg_node.get(\"functions\", []):\n",
    "        sub_ast = build_ast_from_cfg(fn_item, code_lines)\n",
    "        block_ast[\"children\"].append({\n",
    "            \"type\": \"function_placeholder\",  # or \"function_definition\"\n",
    "            \"name\": fn_item[\"name\"],\n",
    "            \"start_line\": fn_item[\"start_line\"],\n",
    "            \"end_line\": fn_item[\"end_line\"],\n",
    "            \"children\": [sub_ast]\n",
    "        })\n",
    "\n",
    "    # 3) 递归构造子class\n",
    "    for cl_item in cfg_node.get(\"classes\", []):\n",
    "        sub_ast = build_ast_from_cfg(cl_item, code_lines)\n",
    "        block_ast[\"children\"].append({\n",
    "            \"type\": \"class_placeholder\",     # or \"class_definition\"\n",
    "            \"name\": cl_item[\"name\"],\n",
    "            \"start_line\": cl_item[\"start_line\"],\n",
    "            \"end_line\": cl_item[\"end_line\"],\n",
    "            \"children\": [sub_ast]\n",
    "        })\n",
    "\n",
    "    return block_ast\n",
    "\n",
    "def generate_llm_ast_via_cfg(code: str) -> Dict[str,Any]:\n",
    "    \"\"\"\n",
    "    顶层函数:\n",
    "    1) parse_cfg_structure => 得到 class/func行号\n",
    "    2) build_ast_from_cfg => 递归构建\n",
    "    \"\"\"\n",
    "    cfg_info = parse_cfg_structure(code, language=\"python\")\n",
    "    code_lines = code.splitlines(True)\n",
    "    # 这里若是顶层, 让 \"build_ast_from_cfg\" -> top_level\n",
    "    # 也可在 build_ast_from_cfg( top_level=True ), \n",
    "    #   但是我们这里在 partial code parse时top_level=true 也可以\n",
    "    full_ast = build_ast_from_cfg(cfg_info, code_lines)\n",
    "\n",
    "    # 若你希望顶层节点为 'module', 可以额外再做一次替换:\n",
    "    if full_ast.get(\"type\") and full_ast[\"type\"] != \"module\":\n",
    "        full_ast[\"type\"] = \"module\"\n",
    "    return full_ast\n",
    "\n",
    "###############################################################################\n",
    "#           Tree-sitter-based static AST                                      #\n",
    "###############################################################################\n",
    "class PyTreeSitterStaticHandler:\n",
    "    def __init__(self):\n",
    "        self.parser = parser\n",
    "\n",
    "    def generate_static_ast(self, code: str) -> Dict[str, Any]:\n",
    "        tree = self.parser.parse(code.encode(\"utf-8\"))\n",
    "        root_node = tree.root_node\n",
    "        return self.ts_node_to_dict(root_node)\n",
    "\n",
    "    def ts_node_to_dict(self, node) -> Dict[str, Any]:\n",
    "        if not node.is_named:\n",
    "            return None\n",
    "        node_type = node.type\n",
    "        node_text = (node.text or b\"\").decode(\"utf-8\")\n",
    "        custom = {\n",
    "            \"type\": node_type,\n",
    "            \"label\": node_text,\n",
    "            \"children\": []\n",
    "        }\n",
    "        for i in range(node.child_count):\n",
    "            child = node.child(i)\n",
    "            sub = self.ts_node_to_dict(child)\n",
    "            if sub:\n",
    "                custom[\"children\"].append(sub)\n",
    "        return custom\n",
    "\n",
    "def generate_tree_sitter_ast(code: str) -> Dict[str, Any]:\n",
    "    handler = PyTreeSitterStaticHandler()\n",
    "    return handler.generate_static_ast(code)\n",
    "\n",
    "###############################################################################\n",
    "#                  process_single_file using CFG-based LLM AST               #\n",
    "###############################################################################\n",
    "def process_llm_ast(code: str, file_path: str) -> dict:\n",
    "    \"\"\"处理LLM AST生成和保存(使用CFG + partial block parse)\"\"\"\n",
    "    llm_out_dir = \"llm_ast/cfg_block\"\n",
    "    os.makedirs(llm_out_dir, exist_ok=True)\n",
    "    llm_json_path = os.path.join(llm_out_dir, os.path.basename(file_path) + \".json\")\n",
    "\n",
    "    # 若已生成过，就直接加载\n",
    "    if os.path.exists(llm_json_path):\n",
    "        with open(llm_json_path, \"r\", encoding=\"utf-8\") as f:\n",
    "            llm_ast = json.load(f)\n",
    "        print(f\"[LLM AST] (cached) => {llm_json_path}\")\n",
    "        return llm_ast\n",
    "\n",
    "    # 生成\n",
    "    llm_ast = generate_llm_ast_via_cfg(code)\n",
    "    with open(llm_json_path, \"w\", encoding=\"utf-8\") as fout:\n",
    "        json.dump(llm_ast, fout, indent=4, ensure_ascii=False)\n",
    "    print(f\"[LLM AST] => {llm_json_path}\")\n",
    "    return llm_ast\n",
    "\n",
    "def process_static_ast(code: str, file_path: str) -> dict:\n",
    "    \"\"\"处理静态AST生成和保存\"\"\"\n",
    "    ts_ast = generate_tree_sitter_ast(code)\n",
    "    ts_out_dir = \"static_ast\"\n",
    "    os.makedirs(ts_out_dir, exist_ok=True)\n",
    "    ts_json_path = os.path.join(ts_out_dir, os.path.basename(file_path) + \".json\")\n",
    "    with open(ts_json_path, \"w\", encoding=\"utf-8\") as fout:\n",
    "        json.dump(ts_ast, fout, indent=4, ensure_ascii=False)\n",
    "    print(f\"[TS AST] => {ts_json_path}\")\n",
    "    return ts_ast\n",
    "\n",
    "def process_single_file(file_path: str):\n",
    "    \"\"\"\n",
    "    1) read code\n",
    "    2) generate LLM AST (CFG+partial block approach)\n",
    "    3) generate static AST (tree-sitter)\n",
    "    4) optionally compare snippet-level label\n",
    "    5) store JSON\n",
    "    \"\"\"\n",
    "    try:\n",
    "        with open(file_path, \"r\", encoding=\"utf-8\") as f:\n",
    "            code = f.read()\n",
    "    except Exception as e:\n",
    "        print(f\"[Error] reading {file_path}: {e}\")\n",
    "        return\n",
    "\n",
    "    print(f\"[Processing] {file_path}\")\n",
    "\n",
    "    # 2) LLM AST\n",
    "    llm_ast = process_llm_ast(code, file_path)\n",
    "\n",
    "    # 3) tree-sitter AST\n",
    "    ts_ast = process_static_ast(code, file_path)\n",
    "\n",
    "    # 4) compare label if needed\n",
    "    # compare_ast_nodes(llm_ast, ts_ast)\n",
    "\n",
    "    print(f\"[Processing done] {file_path}\")\n",
    "\n",
    "###############################################################################\n",
    "#                                 main()                                      #\n",
    "###############################################################################\n",
    "def main():\n",
    "    source_dir = \"../../dataset/python/\"\n",
    "    if not os.path.isdir(source_dir):\n",
    "        print(f\"[Error] Directory {source_dir} does not exist.\")\n",
    "        return\n",
    "\n",
    "    # process_single_file(os.path.join(source_dir, \"11.py\"))\n",
    "    # 示例：只处理前 10 个 .py 文件\n",
    "    files = [f for f in os.listdir(source_dir) if f.endswith(\".py\")]\n",
    "\n",
    "    with concurrent.futures.ThreadPoolExecutor(max_workers=cpu_count()) as executor:\n",
    "        futures = []\n",
    "        pbar = tqdm(total=len(files), desc=\"处理文件\")\n",
    "        for fname in files:\n",
    "            full_path = os.path.join(source_dir, fname)\n",
    "            future = executor.submit(process_single_file, full_path)\n",
    "            future.add_done_callback(lambda _: pbar.update(1))\n",
    "            futures.append(future)\n",
    "        concurrent.futures.wait(futures)\n",
    "        pbar.close()\n",
    "\n",
    "if __name__ == \"__main__\":\n",
    "    main()\n"
   ]
  }
 ],
 "metadata": {
  "kernelspec": {
   "display_name": "llm_analysis",
   "language": "python",
   "name": "python3"
  },
  "language_info": {
   "codemirror_mode": {
    "name": "ipython",
    "version": 3
   },
   "file_extension": ".py",
   "mimetype": "text/x-python",
   "name": "python",
   "nbconvert_exporter": "python",
   "pygments_lexer": "ipython3",
   "version": "3.10.15"
  }
 },
 "nbformat": 4,
 "nbformat_minor": 2
}
