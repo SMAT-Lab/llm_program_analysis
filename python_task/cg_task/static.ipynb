{
 "cells": [
  {
   "cell_type": "code",
   "execution_count": 2,
   "metadata": {},
   "outputs": [
    {
     "name": "stdout",
     "output_type": "stream",
     "text": [
      "1\n"
     ]
    }
   ],
   "source": [
    "import json\n",
    "from scalpel.call_graph.pycg import CallGraphGenerator, formats\n",
    "\n",
    "def filter_call_graph(call_graph: dict, prefix: str) -> dict:\n",
    "    # 1) 先只保留 prefix 开头的键\n",
    "    prefix_only = {}\n",
    "    for original_key, calls in call_graph.items():\n",
    "        if original_key == prefix:\n",
    "            new_key = \"main\"\n",
    "        elif original_key.startswith(prefix + \".\"):\n",
    "            new_key = original_key[len(prefix) + 1:]\n",
    "        else:\n",
    "            # 不以 prefix 开头 => 丢弃\n",
    "            continue\n",
    "\n",
    "        new_calls = []\n",
    "        for c in calls:\n",
    "            if c == prefix:\n",
    "                new_calls.append(\"main\")\n",
    "            elif c.startswith(prefix + \".\"):\n",
    "                new_calls.append(c[len(prefix) + 1:])\n",
    "            else:\n",
    "                # 不以 prefix 开头的调用，如果不是<builtin>开头则保留\n",
    "                # if not c.startswith(\"<builtin>\"):\n",
    "                new_calls.append(c)\n",
    "\n",
    "        prefix_only[new_key] = new_calls\n",
    "\n",
    "    return prefix_only\n",
    "\n",
    "import os\n",
    "if __name__ == \"__main__\":\n",
    "    source_code_dir = \"../../dataset/python\"\n",
    "    static_cg_dir = \"../../dataset/python_cg\"\n",
    "    os.makedirs(static_cg_dir, exist_ok=True)\n",
    "    for i in range(210):\n",
    "        if not os.path.exists(f\"{source_code_dir}/{i}.py\"):\n",
    "            continue\n",
    "        cg_generator = CallGraphGenerator([f\"{source_code_dir}/{i}.py\"], source_code_dir)\n",
    "        cg_generator.analyze()\n",
    "        formatter = formats.Simple(cg_generator)\n",
    "\n",
    "        # 原始的 call graph\n",
    "        original_graph = formatter.generate()\n",
    "        # with open(f\"{static_cg_dir}/{i}.json\", \"w\", encoding=\"utf-8\") as f:\n",
    "        #     json.dump(original_graph, f, indent=4, ensure_ascii=False)\n",
    "\n",
    "        # 假设你想只保留“.........dataset.python.0”开头的\n",
    "        prefix_to_keep = f\"{i}\"\n",
    "        # 如果文件名会变，例如变成 1.py、2.py 等，可根据实际情况调整 prefix_to_keep 的生成逻辑\n",
    "\n",
    "        filtered_graph = filter_call_graph(original_graph, prefix_to_keep)\n",
    "\n",
    "        # 将结果写入文件\n",
    "        with open(f\"{static_cg_dir}/{i}.json\", \"w\", encoding=\"utf-8\") as f:\n",
    "            json.dump(filtered_graph, f, indent=4, ensure_ascii=False)\n"
   ]
  }
 ],
 "metadata": {
  "kernelspec": {
   "display_name": "llm_analysis",
   "language": "python",
   "name": "python3"
  },
  "language_info": {
   "codemirror_mode": {
    "name": "ipython",
    "version": 3
   },
   "file_extension": ".py",
   "mimetype": "text/x-python",
   "name": "python",
   "nbconvert_exporter": "python",
   "pygments_lexer": "ipython3",
   "version": "3.10.15"
  }
 },
 "nbformat": 4,
 "nbformat_minor": 2
}
