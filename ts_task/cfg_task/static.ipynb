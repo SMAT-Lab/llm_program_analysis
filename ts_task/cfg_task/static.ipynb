{
 "cells": [
  {
   "cell_type": "code",
   "execution_count": 4,
   "metadata": {},
   "outputs": [
    {
     "name": "stdout",
     "output_type": "stream",
     "text": [
      "Error: node:internal/modules/esm/get_format:218\n",
      "  throw new ERR_UNKNOWN_FILE_EXTENSION(ext, filepath);\n",
      "        ^\n",
      "\n",
      "TypeError [ERR_UNKNOWN_FILE_EXTENSION]: Unknown file extension \".ts\" for /home/llm_static_analysis/ts/cfg_task/cfg_generator.ts\n",
      "\u001b[90m    at Object.getFileProtocolModuleFormat [as file:] (node:internal/modules/esm/get_format:218:9)\u001b[39m\n",
      "\u001b[90m    at defaultGetFormat (node:internal/modules/esm/get_format:244:36)\u001b[39m\n",
      "\u001b[90m    at defaultLoad (node:internal/modules/esm/load:122:22)\u001b[39m\n",
      "\u001b[90m    at async ModuleLoader.loadAndTranslate (node:internal/modules/esm/loader:483:32)\u001b[39m\n",
      "\u001b[90m    at async ModuleJob._link (node:internal/modules/esm/module_job:115:19)\u001b[39m {\n",
      "  code: \u001b[32m'ERR_UNKNOWN_FILE_EXTENSION'\u001b[39m\n",
      "}\n",
      "\n",
      "Node.js v22.12.0\n",
      "\n",
      "None\n"
     ]
    }
   ],
   "source": [
    "import subprocess\n",
    "\n",
    "def get_cfg_from_typescript(file_path):\n",
    "    try:\n",
    "        result = subprocess.run(\n",
    "            [\"ts-node\", \"cfg_generator.ts\", file_path],  # 使用 ts-node\n",
    "            capture_output=True,\n",
    "            text=True,\n",
    "            check=True\n",
    "        )\n",
    "        return result.stdout\n",
    "    except subprocess.CalledProcessError as e:\n",
    "        print(f\"Error: {e.stderr}\")\n",
    "        return None\n",
    "\n",
    "# Example usage\n",
    "cfg = get_cfg_from_typescript(\"../../dataset/ts/0.ts\")\n",
    "print(cfg)\n"
   ]
  }
 ],
 "metadata": {
  "kernelspec": {
   "display_name": "scalpel",
   "language": "python",
   "name": "python3"
  },
  "language_info": {
   "codemirror_mode": {
    "name": "ipython",
    "version": 3
   },
   "file_extension": ".py",
   "mimetype": "text/x-python",
   "name": "python",
   "nbconvert_exporter": "python",
   "pygments_lexer": "ipython3",
   "version": "3.10.15"
  }
 },
 "nbformat": 4,
 "nbformat_minor": 2
}
