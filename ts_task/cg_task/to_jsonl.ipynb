{
 "cells": [
  {
   "cell_type": "code",
   "execution_count": 2,
   "metadata": {},
   "outputs": [],
   "source": [
    "llm_cg_dir = \"llm_cg\"\n",
    "static_cg_dir = \"../../dataset/ts_cg\"\n",
    "source_dir = \"../../dataset/ts\"\n",
    "\n",
    "import os\n",
    "import json\n",
    "\n",
    "datas = []\n",
    "\n",
    "for i in range(200):\n",
    "    llm_cg_path = os.path.join(llm_cg_dir, f\"{i}.json\")\n",
    "    static_cg_path = os.path.join(static_cg_dir, f\"{i}.ts.json\")\n",
    "    source_path = os.path.join(source_dir, f\"{i}.ts\")\n",
    "\n",
    "    if not os.path.exists(llm_cg_path) or not os.path.exists(static_cg_path) or not os.path.exists(source_path):\n",
    "        continue\n",
    "\n",
    "    with open(source_path, \"r\", encoding=\"utf-8\") as f:\n",
    "        source_code = f.read()\n",
    "\n",
    "    with open(llm_cg_path, \"r\", encoding=\"utf-8\") as f:\n",
    "        llm_cg = json.load(f)  \n",
    "    with open(static_cg_path, \"r\", encoding=\"utf-8\") as f:\n",
    "        static_cg = json.load(f)\n",
    "\n",
    "    data = {    \n",
    "        \"source_code\": source_code,\n",
    "        \"llm_cg\": llm_cg,\n",
    "        \"static_cg\": static_cg\n",
    "    }\n",
    "    datas.append(data)\n",
    "\n",
    "with open(\"cg_task.jsonl\", \"w\", encoding=\"utf-8\") as f:\n",
    "    for data in datas:\n",
    "        f.write(json.dumps(data, ensure_ascii=False) + \"\\n\")\n",
    "\n"
   ]
  }
 ],
 "metadata": {
  "kernelspec": {
   "display_name": "llm_analysis",
   "language": "python",
   "name": "python3"
  },
  "language_info": {
   "codemirror_mode": {
    "name": "ipython",
    "version": 3
   },
   "file_extension": ".py",
   "mimetype": "text/x-python",
   "name": "python",
   "nbconvert_exporter": "python",
   "pygments_lexer": "ipython3",
   "version": "3.10.15"
  }
 },
 "nbformat": 4,
 "nbformat_minor": 2
}
